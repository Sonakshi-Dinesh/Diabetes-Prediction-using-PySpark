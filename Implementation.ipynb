{
  "cells": [
    {
      "cell_type": "code",
      "execution_count": null,
      "metadata": {
        "colab": {
          "base_uri": "https://localhost:8080/"
        },
        "id": "4St34i3Qo43g",
        "outputId": "33a1f00f-281f-4b35-fbb0-1f9ac60dc189"
      },
      "outputs": [
        {
          "output_type": "stream",
          "name": "stdout",
          "text": [
            "Collecting pyspark\n",
            "  Downloading pyspark-3.4.1.tar.gz (310.8 MB)\n",
            "\u001b[2K     \u001b[90m━━━━━━━━━━━━━━━━━━━━━━━━━━━━━━━━━━━━━━━\u001b[0m \u001b[32m310.8/310.8 MB\u001b[0m \u001b[31m2.4 MB/s\u001b[0m eta \u001b[36m0:00:00\u001b[0m\n",
            "\u001b[?25h  Preparing metadata (setup.py) ... \u001b[?25l\u001b[?25hdone\n",
            "Requirement already satisfied: py4j==0.10.9.7 in /usr/local/lib/python3.10/dist-packages (from pyspark) (0.10.9.7)\n",
            "Building wheels for collected packages: pyspark\n",
            "  Building wheel for pyspark (setup.py) ... \u001b[?25l\u001b[?25hdone\n",
            "  Created wheel for pyspark: filename=pyspark-3.4.1-py2.py3-none-any.whl size=311285398 sha256=c4fecb2308ecddeaf8b708d9d24e175c141a16b6d913f51282736dd793d46baa\n",
            "  Stored in directory: /root/.cache/pip/wheels/0d/77/a3/ff2f74cc9ab41f8f594dabf0579c2a7c6de920d584206e0834\n",
            "Successfully built pyspark\n",
            "Installing collected packages: pyspark\n",
            "Successfully installed pyspark-3.4.1\n"
          ]
        }
      ],
      "source": [
        "pip install pyspark"
      ]
    },
    {
      "cell_type": "code",
      "execution_count": null,
      "metadata": {
        "id": "b9-tymoSpAOd"
      },
      "outputs": [],
      "source": [
        "from pyspark.sql import SparkSession\n",
        "from pyspark.ml.feature import VectorAssembler, OneHotEncoder\n",
        "from pyspark.ml.classification import RandomForestClassifier, LogisticRegression\n",
        "from pyspark.ml.tuning import CrossValidator, ParamGridBuilder\n",
        "from pyspark.ml.evaluation import MulticlassClassificationEvaluator\n",
        "from pyspark.ml import Pipeline"
      ]
    },
    {
      "cell_type": "code",
      "execution_count": null,
      "metadata": {
        "id": "IdcvU9LepKl9"
      },
      "outputs": [],
      "source": [
        "spark = SparkSession.builder.appName(\"spark\").getOrCreate()"
      ]
    },
    {
      "cell_type": "code",
      "execution_count": null,
      "metadata": {
        "id": "3D2Q9EMVyVwv"
      },
      "outputs": [],
      "source": [
        "df=spark.read.csv(\"Diabetes.csv\",header=True,inferSchema=True)"
      ]
    },
    {
      "cell_type": "code",
      "execution_count": null,
      "metadata": {
        "colab": {
          "base_uri": "https://localhost:8080/"
        },
        "id": "-bwxKd9pvx0_",
        "outputId": "ad58bc93-8409-4d21-bc3d-98e82645f2ac"
      },
      "outputs": [
        {
          "output_type": "stream",
          "name": "stdout",
          "text": [
            "age\n",
            "hypertension\n",
            "heart_disease\n",
            "bmi\n",
            "HbA1c_level\n",
            "blood_glucose_level\n",
            "diabetes\n"
          ]
        }
      ],
      "source": [
        "columns = df.columns\n",
        "for column in columns:\n",
        "    print(column)"
      ]
    },
    {
      "cell_type": "code",
      "execution_count": null,
      "metadata": {
        "colab": {
          "base_uri": "https://localhost:8080/"
        },
        "id": "mc1ht_WdydHe",
        "outputId": "b609b676-7516-4570-e098-d6e5132df302"
      },
      "outputs": [
        {
          "output_type": "stream",
          "name": "stdout",
          "text": [
            "+----+------------+-------------+-----+-----------+-------------------+--------+\n",
            "| age|hypertension|heart_disease|  bmi|HbA1c_level|blood_glucose_level|diabetes|\n",
            "+----+------------+-------------+-----+-----------+-------------------+--------+\n",
            "|80.0|           0|            1|25.19|        6.6|                140|       0|\n",
            "|54.0|           0|            0|27.32|        6.6|                 80|       0|\n",
            "|28.0|           0|            0|27.32|        5.7|                158|       0|\n",
            "|36.0|           0|            0|23.45|        5.0|                155|       0|\n",
            "|76.0|           1|            1|20.14|        4.8|                155|       0|\n",
            "|20.0|           0|            0|27.32|        6.6|                 85|       0|\n",
            "|44.0|           0|            0|19.31|        6.5|                200|       1|\n",
            "|79.0|           0|            0|23.86|        5.7|                 85|       0|\n",
            "|42.0|           0|            0|33.64|        4.8|                145|       0|\n",
            "|32.0|           0|            0|27.32|        5.0|                100|       0|\n",
            "|53.0|           0|            0|27.32|        6.1|                 85|       0|\n",
            "|54.0|           0|            0| 54.7|        6.0|                100|       0|\n",
            "|78.0|           0|            0|36.05|        5.0|                130|       0|\n",
            "|67.0|           0|            0|25.69|        5.8|                200|       0|\n",
            "|76.0|           0|            0|27.32|        5.0|                160|       0|\n",
            "|78.0|           0|            0|27.32|        6.6|                126|       0|\n",
            "|15.0|           0|            0|30.36|        6.1|                200|       0|\n",
            "|42.0|           0|            0|24.48|        5.7|                158|       0|\n",
            "|42.0|           0|            0|27.32|        5.7|                 80|       0|\n",
            "|37.0|           0|            0|25.72|        3.5|                159|       0|\n",
            "+----+------------+-------------+-----+-----------+-------------------+--------+\n",
            "only showing top 20 rows\n",
            "\n"
          ]
        }
      ],
      "source": [
        "df.show()"
      ]
    },
    {
      "cell_type": "code",
      "execution_count": null,
      "metadata": {
        "colab": {
          "base_uri": "https://localhost:8080/"
        },
        "id": "mrvaJzyiygHx",
        "outputId": "c3d16c47-b063-4af0-b0d7-7dc9a924299b"
      },
      "outputs": [
        {
          "output_type": "stream",
          "name": "stdout",
          "text": [
            "root\n",
            " |-- age: double (nullable = true)\n",
            " |-- hypertension: integer (nullable = true)\n",
            " |-- heart_disease: integer (nullable = true)\n",
            " |-- bmi: double (nullable = true)\n",
            " |-- HbA1c_level: double (nullable = true)\n",
            " |-- blood_glucose_level: integer (nullable = true)\n",
            " |-- diabetes: integer (nullable = true)\n",
            "\n"
          ]
        }
      ],
      "source": [
        "df.printSchema()"
      ]
    },
    {
      "cell_type": "code",
      "execution_count": null,
      "metadata": {
        "colab": {
          "base_uri": "https://localhost:8080/"
        },
        "id": "6tRsiMKpylBG",
        "outputId": "971bf666-2f94-40ef-83fd-4781d697e4a8"
      },
      "outputs": [
        {
          "output_type": "stream",
          "name": "stdout",
          "text": [
            "('Rows=', 100000, 'Columns=', 7)\n"
          ]
        }
      ],
      "source": [
        "print((\"Rows=\",df.count(),\"Columns=\",len(df.columns)))"
      ]
    },
    {
      "cell_type": "code",
      "execution_count": null,
      "metadata": {
        "colab": {
          "base_uri": "https://localhost:8080/"
        },
        "id": "LFlp1RIHytza",
        "outputId": "30eff946-0fe9-4340-f0e0-650be5e4ded4"
      },
      "outputs": [
        {
          "output_type": "stream",
          "name": "stdout",
          "text": [
            "+--------+-----+\n",
            "|diabetes|count|\n",
            "+--------+-----+\n",
            "|       1| 8500|\n",
            "|       0|91500|\n",
            "+--------+-----+\n",
            "\n"
          ]
        }
      ],
      "source": [
        "df.groupBy(\"diabetes\").count().show()"
      ]
    },
    {
      "cell_type": "code",
      "execution_count": null,
      "metadata": {
        "colab": {
          "base_uri": "https://localhost:8080/"
        },
        "id": "vy5VpvsUywfb",
        "outputId": "3162f5ec-eb13-4319-850a-cf64ec5822fd"
      },
      "outputs": [
        {
          "output_type": "stream",
          "name": "stdout",
          "text": [
            "+-------+-----------------+------------------+------------------+-----------------+------------------+-------------------+-------------------+\n",
            "|summary|              age|      hypertension|     heart_disease|              bmi|       HbA1c_level|blood_glucose_level|           diabetes|\n",
            "+-------+-----------------+------------------+------------------+-----------------+------------------+-------------------+-------------------+\n",
            "|  count|           100000|            100000|            100000|           100000|            100000|             100000|             100000|\n",
            "|   mean|41.88585600000013|           0.07485|           0.03942|27.32076709999422|5.5275069999983275|          138.05806|              0.085|\n",
            "| stddev|22.51683987161704|0.2631504702289171|0.1945930169980986|6.636783416648357|1.0706720918835468|  40.70813604870383|0.27888308976661896|\n",
            "|    min|             0.08|                 0|                 0|            10.01|               3.5|                 80|                  0|\n",
            "|    max|             80.0|                 1|                 1|            95.69|               9.0|                300|                  1|\n",
            "+-------+-----------------+------------------+------------------+-----------------+------------------+-------------------+-------------------+\n",
            "\n"
          ]
        }
      ],
      "source": [
        "df.describe().show()"
      ]
    },
    {
      "cell_type": "code",
      "execution_count": null,
      "metadata": {
        "colab": {
          "base_uri": "https://localhost:8080/"
        },
        "id": "uaeyTUL2y3o7",
        "outputId": "22eaba80-af9e-4e5e-84e4-e7967c285f52"
      },
      "outputs": [
        {
          "output_type": "stream",
          "name": "stdout",
          "text": [
            "age: 0\n",
            "hypertension: 0\n",
            "heart_disease: 0\n",
            "bmi: 0\n",
            "HbA1c_level: 0\n",
            "blood_glucose_level: 0\n",
            "diabetes: 0\n"
          ]
        }
      ],
      "source": [
        "for col in df.columns:\n",
        "  print(col+\":\",df[df[col].isNull()].count())"
      ]
    },
    {
      "cell_type": "code",
      "execution_count": null,
      "metadata": {
        "colab": {
          "base_uri": "https://localhost:8080/"
        },
        "id": "4Nz81dCuy87R",
        "outputId": "1eb16d62-9e8f-457d-e63d-3ad60ef8a7d5"
      },
      "outputs": [
        {
          "output_type": "stream",
          "name": "stdout",
          "text": [
            "hypertension: 92515\n",
            "heart_disease: 96058\n",
            "bmi: 0\n",
            "HbA1c_level: 0\n",
            "blood_glucose_level: 0\n"
          ]
        }
      ],
      "source": [
        "def count_zeros():\n",
        "  col=[\"hypertension\",\"heart_disease\",\"bmi\",\"HbA1c_level\",\"blood_glucose_level\"]\n",
        "  for i in col:\n",
        "    print(i+\":\",df[df[i]==0].count())\n",
        "count_zeros()\n"
      ]
    },
    {
      "cell_type": "code",
      "execution_count": null,
      "metadata": {
        "colab": {
          "base_uri": "https://localhost:8080/"
        },
        "id": "oq3C1kcYzcpR",
        "outputId": "20ee896b-ca38-4bf2-c576-61c96b973476"
      },
      "outputs": [
        {
          "output_type": "stream",
          "name": "stdout",
          "text": [
            "Mean for hypertension is 0.07485\n",
            "Mean for heart_disease is 0.03942\n",
            "Mean for bmi is 27.32076709999422\n",
            "Mean for HbA1c_level is 5.5275069999983275\n",
            "Mean for blood_glucose_level is 138.05806\n",
            "+----+------------+-------------+-----+-----------+-------------------+--------+\n",
            "| age|hypertension|heart_disease|  bmi|HbA1c_level|blood_glucose_level|diabetes|\n",
            "+----+------------+-------------+-----+-----------+-------------------+--------+\n",
            "|80.0|           0|            1|25.19|        6.6|                140|       0|\n",
            "|54.0|           0|            0|27.32|        6.6|                 80|       0|\n",
            "|28.0|           0|            0|27.32|        5.7|                158|       0|\n",
            "|36.0|           0|            0|23.45|        5.0|                155|       0|\n",
            "|76.0|           1|            1|20.14|        4.8|                155|       0|\n",
            "|20.0|           0|            0|27.32|        6.6|                 85|       0|\n",
            "|44.0|           0|            0|19.31|        6.5|                200|       1|\n",
            "|79.0|           0|            0|23.86|        5.7|                 85|       0|\n",
            "|42.0|           0|            0|33.64|        4.8|                145|       0|\n",
            "|32.0|           0|            0|27.32|        5.0|                100|       0|\n",
            "|53.0|           0|            0|27.32|        6.1|                 85|       0|\n",
            "|54.0|           0|            0| 54.7|        6.0|                100|       0|\n",
            "|78.0|           0|            0|36.05|        5.0|                130|       0|\n",
            "|67.0|           0|            0|25.69|        5.8|                200|       0|\n",
            "|76.0|           0|            0|27.32|        5.0|                160|       0|\n",
            "|78.0|           0|            0|27.32|        6.6|                126|       0|\n",
            "|15.0|           0|            0|30.36|        6.1|                200|       0|\n",
            "|42.0|           0|            0|24.48|        5.7|                158|       0|\n",
            "|42.0|           0|            0|27.32|        5.7|                 80|       0|\n",
            "|37.0|           0|            0|25.72|        3.5|                159|       0|\n",
            "+----+------------+-------------+-----+-----------+-------------------+--------+\n",
            "only showing top 20 rows\n",
            "\n"
          ]
        }
      ],
      "source": [
        "from pyspark.sql.functions import *\n",
        "for i in df.columns[1:6]:\n",
        "  data=df.agg({i:\"mean\"}).first()[0]\n",
        "  print(\"Mean for {} is {}\".format(i,data))\n",
        "  df=df.withColumn(i,when(df[i]==0,int(data)).otherwise(df[i]))\n",
        "df.show()"
      ]
    },
    {
      "cell_type": "code",
      "execution_count": null,
      "metadata": {
        "colab": {
          "base_uri": "https://localhost:8080/",
          "height": 432
        },
        "id": "dWHPBLG3A-Z8",
        "outputId": "03125afa-6a8a-4d20-943e-3f0cf99ce9bc"
      },
      "outputs": [
        {
          "output_type": "display_data",
          "data": {
            "text/plain": [
              "<Figure size 640x480 with 1 Axes>"
            ],
            "image/png": "[encoded data removed]"
          },
          "metadata": {}
        }
      ],
      "source": [
        "import matplotlib.pyplot as plt\n",
        "rdd2=df.rdd.map(lambda x:(str(x[2]),1)).reduceByKey(lambda x,y:x+y)\n",
        "\n",
        "x=[rdd2.collect()[0][1],rdd2.collect()[1][1]]\n",
        "y=[\"Hypertension YES\",\"Hypertension NO\"]\n",
        "plt.bar(y,x,color=\"red\",width=0.4)\n",
        "def addlabels(x,y):\n",
        "    for i in range(len(x)):\n",
        "        plt.text(i,x[i],x[i])\n",
        "addlabels(x,y)\n",
        "plt.show()"
      ]
    },
    {
      "cell_type": "code",
      "execution_count": null,
      "metadata": {
        "colab": {
          "base_uri": "https://localhost:8080/",
          "height": 430
        },
        "id": "kGc2c7mTFE6S",
        "outputId": "e9988c8c-2f57-4faf-8d84-3f2cf5039230"
      },
      "outputs": [
        {
          "output_type": "display_data",
          "data": {
            "text/plain": [
              "<Figure size 640x480 with 1 Axes>"
            ],
            "image/png": "[encoded data removed]"
          },
          "metadata": {}
        }
      ],
      "source": [
        "rdd2=df.rdd.map(lambda x:(str(x[3]),1)).reduceByKey(lambda x,y:x+y)\n",
        "x=[rdd2.collect()[0][1],rdd2.collect()[1][1]]\n",
        "y=[\"Heart Disease YES\",\"Heart Disease NO\"]\n",
        "plt.bar(y,x,color=\"yellow\",width=0.4)\n",
        "def addlabels(y,x):\n",
        "    for i in range(len(x)):\n",
        "        plt.text(i,x[i],x[i])\n",
        "addlabels(y,x)\n",
        "plt.show()"
      ]
    },
    {
      "cell_type": "code",
      "execution_count": null,
      "metadata": {
        "colab": {
          "base_uri": "https://localhost:8080/",
          "height": 430
        },
        "id": "aFB9mbJaIa-D",
        "outputId": "aac81e3a-cca3-473f-fdf3-328a087428f5"
      },
      "outputs": [
        {
          "output_type": "display_data",
          "data": {
            "text/plain": [
              "<Figure size 640x480 with 1 Axes>"
            ],
            "image/png": "[encoded data removed]"
          },
          "metadata": {}
        }
      ],
      "source": [
        "rdd2=df.rdd.map(lambda x:(str(x[6]),1)).reduceByKey(lambda x,y:x+y)\n",
        "\n",
        "x=[rdd2.collect()[1][1],rdd2.collect()[0][1]]\n",
        "y=[\"Diabetes YES\",\"Diabetes NO\"]\n",
        "plt.bar(y,x,color=\"green\",width=0.4)\n",
        "def addlabels(x,y):\n",
        "    for i in range(len(x)):\n",
        "        plt.text(i,x[i],x[i])\n",
        "addlabels(x,y)\n",
        "plt.show()"
      ]
    },
    {
      "cell_type": "code",
      "execution_count": null,
      "metadata": {
        "colab": {
          "base_uri": "https://localhost:8080/"
        },
        "id": "2afr9Be54LME",
        "outputId": "b5a4c859-5e2e-4071-fabd-01c5ae859b14"
      },
      "outputs": [
        {
          "output_type": "stream",
          "name": "stdout",
          "text": [
            "root\n",
            " |-- age: double (nullable = true)\n",
            " |-- hypertension: integer (nullable = true)\n",
            " |-- heart_disease: integer (nullable = true)\n",
            " |-- bmi: double (nullable = true)\n",
            " |-- HbA1c_level: double (nullable = true)\n",
            " |-- blood_glucose_level: integer (nullable = true)\n",
            " |-- diabetes: integer (nullable = true)\n",
            " |-- features: vector (nullable = true)\n",
            "\n"
          ]
        }
      ],
      "source": [
        "from pyspark.ml.feature import VectorAssembler\n",
        "assembler=VectorAssembler(inputCols=[\"hypertension\",\"heart_disease\",\"bmi\",\"HbA1c_level\",\"blood_glucose_level\",\"age\"],outputCol='features')\n",
        "outputfeatures=assembler.transform(df)\n",
        "outputfeatures.printSchema()"
      ]
    },
    {
      "cell_type": "code",
      "execution_count": null,
      "metadata": {
        "colab": {
          "base_uri": "https://localhost:8080/"
        },
        "id": "ZdFrOyfC7mib",
        "outputId": "14979aeb-bb96-46a1-a0b9-78878a7723c6"
      },
      "outputs": [
        {
          "output_type": "stream",
          "name": "stdout",
          "text": [
            "+----+------------+-------------+-----+-----------+-------------------+--------+--------------------+\n",
            "| age|hypertension|heart_disease|  bmi|HbA1c_level|blood_glucose_level|diabetes|            features|\n",
            "+----+------------+-------------+-----+-----------+-------------------+--------+--------------------+\n",
            "|80.0|           0|            1|25.19|        6.6|                140|       0|[0.0,1.0,25.19,6....|\n",
            "|54.0|           0|            0|27.32|        6.6|                 80|       0|[0.0,0.0,27.32,6....|\n",
            "|28.0|           0|            0|27.32|        5.7|                158|       0|[0.0,0.0,27.32,5....|\n",
            "|36.0|           0|            0|23.45|        5.0|                155|       0|[0.0,0.0,23.45,5....|\n",
            "|76.0|           1|            1|20.14|        4.8|                155|       0|[1.0,1.0,20.14,4....|\n",
            "|20.0|           0|            0|27.32|        6.6|                 85|       0|[0.0,0.0,27.32,6....|\n",
            "|44.0|           0|            0|19.31|        6.5|                200|       1|[0.0,0.0,19.31,6....|\n",
            "|79.0|           0|            0|23.86|        5.7|                 85|       0|[0.0,0.0,23.86,5....|\n",
            "|42.0|           0|            0|33.64|        4.8|                145|       0|[0.0,0.0,33.64,4....|\n",
            "|32.0|           0|            0|27.32|        5.0|                100|       0|[0.0,0.0,27.32,5....|\n",
            "|53.0|           0|            0|27.32|        6.1|                 85|       0|[0.0,0.0,27.32,6....|\n",
            "|54.0|           0|            0| 54.7|        6.0|                100|       0|[0.0,0.0,54.7,6.0...|\n",
            "|78.0|           0|            0|36.05|        5.0|                130|       0|[0.0,0.0,36.05,5....|\n",
            "|67.0|           0|            0|25.69|        5.8|                200|       0|[0.0,0.0,25.69,5....|\n",
            "|76.0|           0|            0|27.32|        5.0|                160|       0|[0.0,0.0,27.32,5....|\n",
            "|78.0|           0|            0|27.32|        6.6|                126|       0|[0.0,0.0,27.32,6....|\n",
            "|15.0|           0|            0|30.36|        6.1|                200|       0|[0.0,0.0,30.36,6....|\n",
            "|42.0|           0|            0|24.48|        5.7|                158|       0|[0.0,0.0,24.48,5....|\n",
            "|42.0|           0|            0|27.32|        5.7|                 80|       0|[0.0,0.0,27.32,5....|\n",
            "|37.0|           0|            0|25.72|        3.5|                159|       0|[0.0,0.0,25.72,3....|\n",
            "+----+------------+-------------+-----+-----------+-------------------+--------+--------------------+\n",
            "only showing top 20 rows\n",
            "\n"
          ]
        }
      ],
      "source": [
        "outputfeatures.show()"
      ]
    },
    {
      "cell_type": "code",
      "execution_count": null,
      "metadata": {
        "colab": {
          "base_uri": "https://localhost:8080/"
        },
        "id": "Pj8i0GcI7s_h",
        "outputId": "e45bf0a0-2782-423b-dc4b-b810fdd3de40"
      },
      "outputs": [
        {
          "output_type": "stream",
          "name": "stdout",
          "text": [
            "root\n",
            " |-- features: vector (nullable = true)\n",
            " |-- diabetes: integer (nullable = true)\n",
            "\n"
          ]
        }
      ],
      "source": [
        "from pyspark.ml.classification import LogisticRegression\n",
        "#selecting only relevant columsn to train our model\n",
        "finalData=outputfeatures.select(\"features\",\"diabetes\")\n",
        "finalData.printSchema()\n",
        "train,test=finalData.randomSplit([0.7,0.3])\n",
        "#creating model\n",
        "models=LogisticRegression(labelCol=\"diabetes\")\n",
        "model=models.fit(train)"
      ]
    },
    {
      "cell_type": "code",
      "execution_count": null,
      "metadata": {
        "colab": {
          "base_uri": "https://localhost:8080/"
        },
        "id": "01R_SD9Z7zqH",
        "outputId": "8f1cd574-492b-4fd6-b98a-7ba035fc0ac9"
      },
      "outputs": [
        {
          "output_type": "stream",
          "name": "stdout",
          "text": [
            "+-------+-------------------+--------------------+\n",
            "|summary|           diabetes|          prediction|\n",
            "+-------+-------------------+--------------------+\n",
            "|  count|              69980|               69980|\n",
            "|   mean|0.08649614175478708|0.062474992855101455|\n",
            "| stddev| 0.2810972933602803| 0.24201798510632955|\n",
            "|    min|                0.0|                 0.0|\n",
            "|    max|                1.0|                 1.0|\n",
            "+-------+-------------------+--------------------+\n",
            "\n"
          ]
        }
      ],
      "source": [
        "summary=model.summary\n",
        "summary.predictions.describe().show()"
      ]
    },
    {
      "cell_type": "code",
      "execution_count": null,
      "metadata": {
        "colab": {
          "base_uri": "https://localhost:8080/"
        },
        "id": "Te2BAbuW74h6",
        "outputId": "f86facf2-ae98-49bb-aa91-4c8cf34fdf12"
      },
      "outputs": [
        {
          "output_type": "stream",
          "name": "stdout",
          "text": [
            "+--------------------+--------+--------------------+--------------------+----------+\n",
            "|            features|diabetes|       rawPrediction|         probability|prediction|\n",
            "+--------------------+--------+--------------------+--------------------+----------+\n",
            "|[0.0,0.0,10.01,6....|       0|[7.24707828015705...|[0.99928825458876...|       0.0|\n",
            "|[0.0,0.0,10.3,5.7...|       0|[7.67239497612588...|[0.99953471496861...|       0.0|\n",
            "|[0.0,0.0,10.5,4.8...|       0|[9.41199177920048...|[0.99991826869945...|       0.0|\n",
            "|[0.0,0.0,10.62,3....|       0|[11.3885016546887...|[0.99998867517092...|       0.0|\n",
            "|[0.0,0.0,10.86,6....|       0|[6.54116327921820...|[0.99855926956648...|       0.0|\n",
            "|[0.0,0.0,10.86,6....|       0|[8.16059723650143...|[0.99971438987813...|       0.0|\n",
            "|[0.0,0.0,10.91,3....|       0|[15.0427759282277...|[0.99999970690710...|       0.0|\n",
            "|[0.0,0.0,10.91,6....|       0|[3.93480711313937...|[0.98082538378101...|       0.0|\n",
            "|[0.0,0.0,11.01,6....|       0|[6.84476212593353...|[0.99893611351283...|       0.0|\n",
            "|[0.0,0.0,11.05,4....|       0|[9.06182196280752...|[0.99988400204165...|       0.0|\n",
            "|[0.0,0.0,11.09,6....|       0|[6.28150820668340...|[0.99813291527764...|       0.0|\n",
            "|[0.0,0.0,11.28,5....|       0|[7.29706366830378...|[0.99932293343349...|       0.0|\n",
            "|[0.0,0.0,11.31,4....|       0|[10.3159976711894...|[0.99996690177061...|       0.0|\n",
            "|[0.0,0.0,11.39,3....|       0|[12.6649829081381...|[0.99999684015021...|       0.0|\n",
            "|[0.0,0.0,11.43,5....|       0|[7.49381017815321...|[0.99944379105938...|       0.0|\n",
            "|[0.0,0.0,11.43,6....|       0|[4.79661532298427...|[0.99180998102618...|       0.0|\n",
            "|[0.0,0.0,11.47,4....|       0|[8.9911946702615,...|[0.99987551423224...|       0.0|\n",
            "|[0.0,0.0,11.53,4....|       0|[12.7688124315190...|[0.99999715177703...|       0.0|\n",
            "|[0.0,0.0,11.56,6....|       0|[5.36410441507854...|[0.99534016454434...|       0.0|\n",
            "|[0.0,0.0,11.65,6....|       0|[4.78391784483463...|[0.99170619340754...|       0.0|\n",
            "+--------------------+--------+--------------------+--------------------+----------+\n",
            "only showing top 20 rows\n",
            "\n"
          ]
        }
      ],
      "source": [
        "#Evaluation and model testing\n",
        "from pyspark.ml.evaluation import BinaryClassificationEvaluator\n",
        "newpredictions=model.evaluate(test)\n",
        "newpredictions.predictions.show()\n"
      ]
    },
    {
      "cell_type": "code",
      "execution_count": null,
      "metadata": {
        "colab": {
          "base_uri": "https://localhost:8080/"
        },
        "id": "kZlU1BH_7_DV",
        "outputId": "7ee68dbf-1aff-42c5-bd13-b3141237a42d"
      },
      "outputs": [
        {
          "output_type": "execute_result",
          "data": {
            "text/plain": [
              "0.9610113101557473"
            ]
          },
          "metadata": {},
          "execution_count": 22
        }
      ],
      "source": [
        "evaluator = BinaryClassificationEvaluator(rawPredictionCol='rawPrediction', labelCol='diabetes')\n",
        "evaluator.evaluate(model.transform(test))"
      ]
    },
    {
      "cell_type": "code",
      "execution_count": null,
      "metadata": {
        "id": "yDm1zQQzmrdB"
      },
      "outputs": [],
      "source": [
        "model.save(\"LRModel\")"
      ]
    },
    {
      "cell_type": "code",
      "execution_count": null,
      "metadata": {
        "id": "3NcAkMjb8Ift"
      },
      "outputs": [],
      "source": [
        "#Loading the model built and using it for prediction\n",
        "from pyspark.ml.classification import LogisticRegressionModel\n",
        "lr = LogisticRegressionModel.load('LRModel')"
      ]
    },
    {
      "cell_type": "code",
      "execution_count": null,
      "metadata": {
        "colab": {
          "base_uri": "https://localhost:8080/"
        },
        "id": "R4CEEELyANGD",
        "outputId": "27e45529-4541-4a29-f87d-ffc08c4b60bb"
      },
      "outputs": [
        {
          "output_type": "stream",
          "name": "stdout",
          "text": [
            "Collecting findspark\n",
            "  Downloading findspark-2.0.1-py2.py3-none-any.whl (4.4 kB)\n",
            "Installing collected packages: findspark\n",
            "Successfully installed findspark-2.0.1\n"
          ]
        }
      ],
      "source": [
        "pip install findspark"
      ]
    },
    {
      "cell_type": "code",
      "execution_count": null,
      "metadata": {
        "id": "xyK6O2eKw0Rd"
      },
      "outputs": [],
      "source": [
        "import time"
      ]
    },
    {
      "cell_type": "code",
      "execution_count": null,
      "metadata": {
        "colab": {
          "base_uri": "https://localhost:8080/"
        },
        "id": "paXRL1CzwvEt",
        "outputId": "9f440228-15c0-4ca6-d23b-ea66d61ec4a2"
      },
      "outputs": [
        {
          "output_type": "stream",
          "name": "stdout",
          "text": [
            "Elapsed time: 0.12 seconds\n"
          ]
        }
      ],
      "source": [
        "start_time = time.time()\n",
        "lr.fit(X_train, y_train)\n",
        "elapsed_time = time.time() - start_time\n",
        "print(\"Elapsed time: {:.2f} seconds\".format(elapsed_time))"
      ]
    },
    {
      "cell_type": "code",
      "execution_count": null,
      "metadata": {
        "id": "EnqLHye7AF7N"
      },
      "outputs": [],
      "source": [
        "import findspark\n",
        "findspark.init('spark-3.1.2-bin-hadoop3.2')\n",
        "\n",
        "from pyspark.sql import SparkSession\n",
        "from pyspark.ml.image import ImageSchema\n",
        "from pyspark.ml.classification import MultilayerPerceptronClassifier\n",
        "from pyspark.ml.evaluation import MulticlassClassificationEvaluator"
      ]
    },
    {
      "cell_type": "code",
      "execution_count": null,
      "metadata": {
        "id": "MruSG5eOAKwI"
      },
      "outputs": [],
      "source": [
        "spark = SparkSession.builder.master('local[*]').appName('Diabetes').getOrCreate()\n"
      ]
    },
    {
      "cell_type": "code",
      "execution_count": null,
      "metadata": {
        "id": "EFOvFx5PA6Rs"
      },
      "outputs": [],
      "source": [
        "from pyspark.sql import SparkSession\n",
        "\n",
        "# Initialize SparkSession\n",
        "spark = SparkSession.builder.appName(\"Diabetes Prediction\").getOrCreate()\n"
      ]
    },
    {
      "cell_type": "code",
      "execution_count": null,
      "metadata": {
        "colab": {
          "base_uri": "https://localhost:8080/"
        },
        "id": "2PuIBPJ6BWFj",
        "outputId": "78ed77c4-a122-430c-db02-ad861060718c"
      },
      "outputs": [
        {
          "output_type": "execute_result",
          "data": {
            "text/plain": [
              "DataFrame[age: double, hypertension: int, heart_disease: int, bmi: double, HbA1c_level: double, blood_glucose_level: int, label: int]"
            ]
          },
          "metadata": {},
          "execution_count": 39
        }
      ],
      "source": [
        "train_data1, test_data1 = df.randomSplit([0.8, 0.2], seed=12345)\n",
        "train_data1 = train_data1.withColumnRenamed(\"diabetes\", \"label\")\n",
        "test_data = test_data1.withColumnRenamed(\"diabetes\", \"label\")\n",
        "train_data1"
      ]
    },
    {
      "cell_type": "code",
      "execution_count": null,
      "metadata": {
        "colab": {
          "base_uri": "https://localhost:8080/"
        },
        "id": "nJ71Kyn3BZKc",
        "outputId": "c3ee33d1-d5e6-497d-f864-75b8edcd6c40"
      },
      "outputs": [
        {
          "output_type": "stream",
          "name": "stdout",
          "text": [
            "['age', 'hypertension', 'heart_disease', 'bmi', 'HbA1c_level', 'blood_glucose_level']\n",
            "['age', 'hypertension', 'heart_disease', 'bmi', 'HbA1c_level', 'blood_glucose_level', 'diabetes']\n"
          ]
        }
      ],
      "source": [
        "from pyspark.ml.classification import MultilayerPerceptronClassifier\n",
        "from pyspark.ml.evaluation import BinaryClassificationEvaluator\n",
        "from pyspark.ml.feature import VectorAssembler\n",
        "\n",
        "# Define the feature columns\n",
        "feature_columns = df.columns[:-1]\n",
        "train_data, test_data = df.randomSplit([0.8, 0.2], seed=12345)\n",
        "train_data\n",
        "print(feature_columns)\n",
        "print(df.columns)\n",
        "# Create the feature vector assembler\n",
        "assembler = VectorAssembler(inputCols=feature_columns, outputCol=\"diabetes\")\n",
        "train_data = train_data.withColumnRenamed(\"diabetes\", \"label\")\n",
        "test_data = test_data.withColumnRenamed(\"diabetes\", \"label\")\n",
        "train_data= assembler.transform(train_data)\n",
        "test_data=assembler.transform(test_data)\n",
        "\n",
        "# Define the ANN model\n",
        "layers = [len(feature_columns), 16, 2]  # Modify the layer sizes as needed\n",
        "ann_model = MultilayerPerceptronClassifier(labelCol=\"label\", featuresCol=\"diabetes\", layers=layers, seed=12345)\n"
      ]
    },
    {
      "cell_type": "code",
      "execution_count": null,
      "metadata": {
        "id": "KsRxjZxjBocg"
      },
      "outputs": [],
      "source": [
        "# Train the ANN model\n",
        "ann_model = ann_model.fit(train_data)\n"
      ]
    },
    {
      "cell_type": "code",
      "execution_count": null,
      "metadata": {
        "id": "Mb9kFR2o7V_b"
      },
      "outputs": [],
      "source": [
        "# Make predictions on the test data\n",
        "predictions = ann_model.transform(test_data)\n"
      ]
    },
    {
      "cell_type": "code",
      "execution_count": null,
      "metadata": {
        "colab": {
          "base_uri": "https://localhost:8080/"
        },
        "id": "IHWeO9WQ-Cmx",
        "outputId": "7e24dde1-85c9-4e62-f7b0-ac7055406734"
      },
      "outputs": [
        {
          "output_type": "stream",
          "name": "stdout",
          "text": [
            "Area under ROC curve = 0.96\n"
          ]
        }
      ],
      "source": [
        "# Evaluate the model\n",
        "evaluator = BinaryClassificationEvaluator(labelCol=\"label\", rawPredictionCol=\"rawPrediction\", metricName=\"areaUnderROC\")\n",
        "auc = evaluator.evaluate(predictions)\n",
        "print(\"Area under ROC curve = {:.2f}\".format(auc))\n"
      ]
    },
    {
      "cell_type": "code",
      "execution_count": null,
      "metadata": {
        "colab": {
          "base_uri": "https://localhost:8080/"
        },
        "id": "hpKKv5hY0Zl1",
        "outputId": "6ad31479-4260-47c4-f5f8-04fdd5d86220"
      },
      "outputs": [
        {
          "output_type": "stream",
          "name": "stdout",
          "text": [
            "Epoch 1/10\n",
            "2188/2188 [==============================] - 4s 2ms/step - loss: 0.0838 - accuracy: 0.9713\n",
            "Epoch 2/10\n",
            "2188/2188 [==============================] - 5s 2ms/step - loss: 0.0836 - accuracy: 0.9716\n",
            "Epoch 3/10\n",
            "2188/2188 [==============================] - 4s 2ms/step - loss: 0.0835 - accuracy: 0.9715\n",
            "Epoch 4/10\n",
            "2188/2188 [==============================] - 4s 2ms/step - loss: 0.0831 - accuracy: 0.9715\n",
            "Epoch 5/10\n",
            "2188/2188 [==============================] - 5s 2ms/step - loss: 0.0828 - accuracy: 0.9716\n",
            "Epoch 6/10\n",
            "2188/2188 [==============================] - 4s 2ms/step - loss: 0.0829 - accuracy: 0.9717\n",
            "Epoch 7/10\n",
            "2188/2188 [==============================] - 4s 2ms/step - loss: 0.0829 - accuracy: 0.9716\n",
            "Epoch 8/10\n",
            "2188/2188 [==============================] - 4s 2ms/step - loss: 0.0828 - accuracy: 0.9716\n",
            "Epoch 9/10\n",
            "2188/2188 [==============================] - 5s 2ms/step - loss: 0.0826 - accuracy: 0.9717\n",
            "Epoch 10/10\n",
            "2188/2188 [==============================] - 4s 2ms/step - loss: 0.0827 - accuracy: 0.9714\n",
            "Elapsed time: 41.08 seconds\n"
          ]
        }
      ],
      "source": [
        "start_time = time.time()\n",
        "model.fit(X_train_scaled, y_train, epochs=10, batch_size=32)\n",
        "elapsed_time = time.time() - start_time\n",
        "print(\"Elapsed time: {:.2f} seconds\".format(elapsed_time))"
      ]
    },
    {
      "cell_type": "code",
      "execution_count": null,
      "metadata": {
        "colab": {
          "base_uri": "https://localhost:8080/",
          "height": 472
        },
        "id": "N154QT36RjPb",
        "outputId": "4ce3582c-874c-45b9-de0b-8854045d4074"
      },
      "outputs": [
        {
          "output_type": "display_data",
          "data": {
            "text/plain": [
              "<Figure size 640x480 with 1 Axes>"
            ],
            "image/png": "[encoded data removed]"
          },
          "metadata": {}
        }
      ],
      "source": [
        "import matplotlib.pyplot as plt\n",
        "\n",
        "age_data = df.select(\"age\").toPandas()\n",
        "plt.hist(age_data, bins=20)\n",
        "plt.xlabel(\"Age\")\n",
        "plt.ylabel(\"Frequency\")\n",
        "plt.title(\"Distribution of Age\")\n",
        "plt.show()"
      ]
    },
    {
      "cell_type": "code",
      "execution_count": null,
      "metadata": {
        "colab": {
          "base_uri": "https://localhost:8080/",
          "height": 472
        },
        "id": "ROVAGmODSvKn",
        "outputId": "97196205-2872-43d9-f6a5-d9f547419a12"
      },
      "outputs": [
        {
          "output_type": "display_data",
          "data": {
            "text/plain": [
              "<Figure size 640x480 with 1 Axes>"
            ],
            "image/png": "[encoded data removed]"
          },
          "metadata": {}
        }
      ],
      "source": [
        "import matplotlib.pyplot as plt\n",
        "\n",
        "age_data = df.select(\"hypertension\").toPandas()\n",
        "plt.hist(age_data, bins=20)\n",
        "plt.xlabel(\"Hypertension\")\n",
        "plt.ylabel(\"Frequency\")\n",
        "plt.title(\"Distribution of Hypertension\")\n",
        "plt.show()"
      ]
    },
    {
      "cell_type": "code",
      "execution_count": null,
      "metadata": {
        "colab": {
          "base_uri": "https://localhost:8080/",
          "height": 472
        },
        "id": "2xzvlew0TKp4",
        "outputId": "6d8753b8-9404-416e-c574-25aaa1596a5f"
      },
      "outputs": [
        {
          "output_type": "display_data",
          "data": {
            "text/plain": [
              "<Figure size 640x480 with 1 Axes>"
            ],
            "image/png": "[encoded data removed]"
          },
          "metadata": {}
        }
      ],
      "source": [
        "import matplotlib.pyplot as plt\n",
        "\n",
        "age_data = df.select(\"heart_disease\").toPandas()\n",
        "plt.hist(age_data, bins=20)\n",
        "plt.xlabel(\"Heart Disease\")\n",
        "plt.ylabel(\"Frequency\")\n",
        "plt.title(\"Distribution of Heart Disease\")\n",
        "plt.show()"
      ]
    },
    {
      "cell_type": "code",
      "execution_count": null,
      "metadata": {
        "colab": {
          "base_uri": "https://localhost:8080/",
          "height": 472
        },
        "id": "zyyKdgtSTd5h",
        "outputId": "44e4deea-5d53-4a31-9477-c5d0e6404785"
      },
      "outputs": [
        {
          "output_type": "display_data",
          "data": {
            "text/plain": [
              "<Figure size 640x480 with 1 Axes>"
            ],
            "image/png": "[encoded data removed]"
          },
          "metadata": {}
        }
      ],
      "source": [
        "import matplotlib.pyplot as plt\n",
        "\n",
        "age_data = df.select(\"bmi\").toPandas()\n",
        "plt.hist(age_data, bins=20)\n",
        "plt.xlabel(\"BMI\")\n",
        "plt.ylabel(\"Frequency\")\n",
        "plt.title(\"Distribution of BMI\")\n",
        "plt.show()"
      ]
    },
    {
      "cell_type": "code",
      "execution_count": null,
      "metadata": {
        "colab": {
          "base_uri": "https://localhost:8080/",
          "height": 472
        },
        "id": "eyuBhbR_TpaK",
        "outputId": "a56d2cb9-7bf9-40c1-a63a-ea33472e5f46"
      },
      "outputs": [
        {
          "output_type": "display_data",
          "data": {
            "text/plain": [
              "<Figure size 640x480 with 1 Axes>"
            ],
            "image/png": "[encoded data removed]"
          },
          "metadata": {}
        }
      ],
      "source": [
        "import matplotlib.pyplot as plt\n",
        "\n",
        "age_data = df.select(\"HbA1c_level\").toPandas()\n",
        "plt.hist(age_data, bins=20)\n",
        "plt.xlabel(\"HbA1c Level\")\n",
        "plt.ylabel(\"Frequency\")\n",
        "plt.title(\"Distribution of HbA1c Level\")\n",
        "plt.show()"
      ]
    },
    {
      "cell_type": "code",
      "execution_count": null,
      "metadata": {
        "colab": {
          "base_uri": "https://localhost:8080/",
          "height": 472
        },
        "id": "zyanwtZhT1Oa",
        "outputId": "397e8cb1-4b8d-4d53-9fb9-c8d261b30099"
      },
      "outputs": [
        {
          "output_type": "display_data",
          "data": {
            "text/plain": [
              "<Figure size 640x480 with 1 Axes>"
            ],
            "image/png": "[encoded data removed]"
          },
          "metadata": {}
        }
      ],
      "source": [
        "import matplotlib.pyplot as plt\n",
        "\n",
        "age_data = df.select(\"blood_glucose_level\").toPandas()\n",
        "plt.hist(age_data, bins=20)\n",
        "plt.xlabel(\"Blood Glucose Level\")\n",
        "plt.ylabel(\"Frequency\")\n",
        "plt.title(\"Distribution of Blood Glucose Level\")\n",
        "plt.show()"
      ]
    },
    {
      "cell_type": "code",
      "execution_count": null,
      "metadata": {
        "colab": {
          "base_uri": "https://localhost:8080/"
        },
        "id": "vIn24oXPb6kQ",
        "outputId": "91e21349-0e36-4ffd-f490-9d537864a722"
      },
      "outputs": [
        {
          "output_type": "stream",
          "name": "stdout",
          "text": [
            "+----+------------+-------------+-----+-----------+-------------------+--------+\n",
            "| age|hypertension|heart_disease|  bmi|HbA1c_level|blood_glucose_level|diabetes|\n",
            "+----+------------+-------------+-----+-----------+-------------------+--------+\n",
            "|80.0|           0|            1|25.19|        6.6|                140|       0|\n",
            "|54.0|           0|            0|27.32|        6.6|                 80|       0|\n",
            "|28.0|           0|            0|27.32|        5.7|                158|       0|\n",
            "|36.0|           0|            0|23.45|        5.0|                155|       0|\n",
            "|76.0|           1|            1|20.14|        4.8|                155|       0|\n",
            "|20.0|           0|            0|27.32|        6.6|                 85|       0|\n",
            "|44.0|           0|            0|19.31|        6.5|                200|       1|\n",
            "|79.0|           0|            0|23.86|        5.7|                 85|       0|\n",
            "|42.0|           0|            0|33.64|        4.8|                145|       0|\n",
            "|32.0|           0|            0|27.32|        5.0|                100|       0|\n",
            "|53.0|           0|            0|27.32|        6.1|                 85|       0|\n",
            "|54.0|           0|            0| 54.7|        6.0|                100|       0|\n",
            "|78.0|           0|            0|36.05|        5.0|                130|       0|\n",
            "|67.0|           0|            0|25.69|        5.8|                200|       0|\n",
            "|76.0|           0|            0|27.32|        5.0|                160|       0|\n",
            "|78.0|           0|            0|27.32|        6.6|                126|       0|\n",
            "|15.0|           0|            0|30.36|        6.1|                200|       0|\n",
            "|42.0|           0|            0|24.48|        5.7|                158|       0|\n",
            "|42.0|           0|            0|27.32|        5.7|                 80|       0|\n",
            "|37.0|           0|            0|25.72|        3.5|                159|       0|\n",
            "+----+------------+-------------+-----+-----------+-------------------+--------+\n",
            "only showing top 20 rows\n",
            "\n"
          ]
        }
      ],
      "source": [
        "from pyspark.sql import SparkSession\n",
        "from pyspark.sql.functions import col, expr\n",
        "spark = SparkSession.builder.appName(\"Outlier Removal\").getOrCreate()\n",
        "quantiles = df.approxQuantile(\"age\", [0.25, 0.75], 0.05)\n",
        "q1 = quantiles[0]\n",
        "q3 = quantiles[1]\n",
        "iqr = q3 - q1\n",
        "lower_bound = q1 - 1.5 * iqr\n",
        "upper_bound = q3 + 1.5 * iqr\n",
        "filtered_data = df.filter((col(\"age\") >= lower_bound) & (col(\"age\") <= upper_bound))\n",
        "filtered_data = df.filter(expr(\"age >= {0} AND age <= {1}\".format(lower_bound, upper_bound)))\n",
        "filtered_data.show()\n",
        "spark.stop()"
      ]
    },
    {
      "cell_type": "code",
      "execution_count": null,
      "metadata": {
        "colab": {
          "base_uri": "https://localhost:8080/",
          "height": 1000
        },
        "id": "ADgQzBSZcpdD",
        "outputId": "9bd2f9c7-8369-4ffd-ecb4-5bc70c5dea91"
      },
      "outputs": [
        {
          "output_type": "error",
          "ename": "Py4JJavaError",
          "evalue": "ignored",
          "traceback": [
            "\u001b[0;31m---------------------------------------------------------------------------\u001b[0m",
            "\u001b[0;31mPy4JJavaError\u001b[0m                             Traceback (most recent call last)",
            "\u001b[0;32m<ipython-input-54-d62c6d00d87e>\u001b[0m in \u001b[0;36m<cell line: 4>\u001b[0;34m()\u001b[0m\n\u001b[1;32m      2\u001b[0m \u001b[0;32mfrom\u001b[0m \u001b[0mpyspark\u001b[0m\u001b[0;34m.\u001b[0m\u001b[0msql\u001b[0m\u001b[0;34m.\u001b[0m\u001b[0mfunctions\u001b[0m \u001b[0;32mimport\u001b[0m \u001b[0mcol\u001b[0m\u001b[0;34m,\u001b[0m \u001b[0mexpr\u001b[0m\u001b[0;34m\u001b[0m\u001b[0;34m\u001b[0m\u001b[0m\n\u001b[1;32m      3\u001b[0m \u001b[0mspark\u001b[0m \u001b[0;34m=\u001b[0m \u001b[0mSparkSession\u001b[0m\u001b[0;34m.\u001b[0m\u001b[0mbuilder\u001b[0m\u001b[0;34m.\u001b[0m\u001b[0mappName\u001b[0m\u001b[0;34m(\u001b[0m\u001b[0;34m\"Outlier Removal\"\u001b[0m\u001b[0;34m)\u001b[0m\u001b[0;34m.\u001b[0m\u001b[0mgetOrCreate\u001b[0m\u001b[0;34m(\u001b[0m\u001b[0;34m)\u001b[0m\u001b[0;34m\u001b[0m\u001b[0;34m\u001b[0m\u001b[0m\n\u001b[0;32m----> 4\u001b[0;31m \u001b[0mquantiles\u001b[0m \u001b[0;34m=\u001b[0m \u001b[0mdf\u001b[0m\u001b[0;34m.\u001b[0m\u001b[0mapproxQuantile\u001b[0m\u001b[0;34m(\u001b[0m\u001b[0;34m\"hypertension\"\u001b[0m\u001b[0;34m,\u001b[0m \u001b[0;34m[\u001b[0m\u001b[0;36m0.25\u001b[0m\u001b[0;34m,\u001b[0m \u001b[0;36m0.75\u001b[0m\u001b[0;34m]\u001b[0m\u001b[0;34m,\u001b[0m \u001b[0;36m0.05\u001b[0m\u001b[0;34m)\u001b[0m\u001b[0;34m\u001b[0m\u001b[0;34m\u001b[0m\u001b[0m\n\u001b[0m\u001b[1;32m      5\u001b[0m \u001b[0mq1\u001b[0m \u001b[0;34m=\u001b[0m \u001b[0mquantiles\u001b[0m\u001b[0;34m[\u001b[0m\u001b[0;36m0\u001b[0m\u001b[0;34m]\u001b[0m\u001b[0;34m\u001b[0m\u001b[0;34m\u001b[0m\u001b[0m\n\u001b[1;32m      6\u001b[0m \u001b[0mq3\u001b[0m \u001b[0;34m=\u001b[0m \u001b[0mquantiles\u001b[0m\u001b[0;34m[\u001b[0m\u001b[0;36m1\u001b[0m\u001b[0;34m]\u001b[0m\u001b[0;34m\u001b[0m\u001b[0;34m\u001b[0m\u001b[0m\n",
            "\u001b[0;32m/usr/local/lib/python3.10/dist-packages/pyspark/sql/dataframe.py\u001b[0m in \u001b[0;36mapproxQuantile\u001b[0;34m(self, col, probabilities, relativeError)\u001b[0m\n\u001b[1;32m   4474\u001b[0m         \u001b[0mrelativeError\u001b[0m \u001b[0;34m=\u001b[0m \u001b[0mfloat\u001b[0m\u001b[0;34m(\u001b[0m\u001b[0mrelativeError\u001b[0m\u001b[0;34m)\u001b[0m\u001b[0;34m\u001b[0m\u001b[0;34m\u001b[0m\u001b[0m\n\u001b[1;32m   4475\u001b[0m \u001b[0;34m\u001b[0m\u001b[0m\n\u001b[0;32m-> 4476\u001b[0;31m         \u001b[0mjaq\u001b[0m \u001b[0;34m=\u001b[0m \u001b[0mself\u001b[0m\u001b[0;34m.\u001b[0m\u001b[0m_jdf\u001b[0m\u001b[0;34m.\u001b[0m\u001b[0mstat\u001b[0m\u001b[0;34m(\u001b[0m\u001b[0;34m)\u001b[0m\u001b[0;34m.\u001b[0m\u001b[0mapproxQuantile\u001b[0m\u001b[0;34m(\u001b[0m\u001b[0mcol\u001b[0m\u001b[0;34m,\u001b[0m \u001b[0mprobabilities\u001b[0m\u001b[0;34m,\u001b[0m \u001b[0mrelativeError\u001b[0m\u001b[0;34m)\u001b[0m\u001b[0;34m\u001b[0m\u001b[0;34m\u001b[0m\u001b[0m\n\u001b[0m\u001b[1;32m   4477\u001b[0m         \u001b[0mjaq_list\u001b[0m \u001b[0;34m=\u001b[0m \u001b[0;34m[\u001b[0m\u001b[0mlist\u001b[0m\u001b[0;34m(\u001b[0m\u001b[0mj\u001b[0m\u001b[0;34m)\u001b[0m \u001b[0;32mfor\u001b[0m \u001b[0mj\u001b[0m \u001b[0;32min\u001b[0m \u001b[0mjaq\u001b[0m\u001b[0;34m]\u001b[0m\u001b[0;34m\u001b[0m\u001b[0;34m\u001b[0m\u001b[0m\n\u001b[1;32m   4478\u001b[0m         \u001b[0;32mreturn\u001b[0m \u001b[0mjaq_list\u001b[0m\u001b[0;34m[\u001b[0m\u001b[0;36m0\u001b[0m\u001b[0;34m]\u001b[0m \u001b[0;32mif\u001b[0m \u001b[0misStr\u001b[0m \u001b[0;32melse\u001b[0m \u001b[0mjaq_list\u001b[0m\u001b[0;34m\u001b[0m\u001b[0;34m\u001b[0m\u001b[0m\n",
            "\u001b[0;32m/usr/local/lib/python3.10/dist-packages/py4j/java_gateway.py\u001b[0m in \u001b[0;36m__call__\u001b[0;34m(self, *args)\u001b[0m\n\u001b[1;32m   1320\u001b[0m \u001b[0;34m\u001b[0m\u001b[0m\n\u001b[1;32m   1321\u001b[0m         \u001b[0manswer\u001b[0m \u001b[0;34m=\u001b[0m \u001b[0mself\u001b[0m\u001b[0;34m.\u001b[0m\u001b[0mgateway_client\u001b[0m\u001b[0;34m.\u001b[0m\u001b[0msend_command\u001b[0m\u001b[0;34m(\u001b[0m\u001b[0mcommand\u001b[0m\u001b[0;34m)\u001b[0m\u001b[0;34m\u001b[0m\u001b[0;34m\u001b[0m\u001b[0m\n\u001b[0;32m-> 1322\u001b[0;31m         return_value = get_return_value(\n\u001b[0m\u001b[1;32m   1323\u001b[0m             answer, self.gateway_client, self.target_id, self.name)\n\u001b[1;32m   1324\u001b[0m \u001b[0;34m\u001b[0m\u001b[0m\n",
            "\u001b[0;32m/usr/local/lib/python3.10/dist-packages/pyspark/errors/exceptions/captured.py\u001b[0m in \u001b[0;36mdeco\u001b[0;34m(*a, **kw)\u001b[0m\n\u001b[1;32m    167\u001b[0m     \u001b[0;32mdef\u001b[0m \u001b[0mdeco\u001b[0m\u001b[0;34m(\u001b[0m\u001b[0;34m*\u001b[0m\u001b[0ma\u001b[0m\u001b[0;34m:\u001b[0m \u001b[0mAny\u001b[0m\u001b[0;34m,\u001b[0m \u001b[0;34m**\u001b[0m\u001b[0mkw\u001b[0m\u001b[0;34m:\u001b[0m \u001b[0mAny\u001b[0m\u001b[0;34m)\u001b[0m \u001b[0;34m->\u001b[0m \u001b[0mAny\u001b[0m\u001b[0;34m:\u001b[0m\u001b[0;34m\u001b[0m\u001b[0;34m\u001b[0m\u001b[0m\n\u001b[1;32m    168\u001b[0m         \u001b[0;32mtry\u001b[0m\u001b[0;34m:\u001b[0m\u001b[0;34m\u001b[0m\u001b[0;34m\u001b[0m\u001b[0m\n\u001b[0;32m--> 169\u001b[0;31m             \u001b[0;32mreturn\u001b[0m \u001b[0mf\u001b[0m\u001b[0;34m(\u001b[0m\u001b[0;34m*\u001b[0m\u001b[0ma\u001b[0m\u001b[0;34m,\u001b[0m \u001b[0;34m**\u001b[0m\u001b[0mkw\u001b[0m\u001b[0;34m)\u001b[0m\u001b[0;34m\u001b[0m\u001b[0;34m\u001b[0m\u001b[0m\n\u001b[0m\u001b[1;32m    170\u001b[0m         \u001b[0;32mexcept\u001b[0m \u001b[0mPy4JJavaError\u001b[0m \u001b[0;32mas\u001b[0m \u001b[0me\u001b[0m\u001b[0;34m:\u001b[0m\u001b[0;34m\u001b[0m\u001b[0;34m\u001b[0m\u001b[0m\n\u001b[1;32m    171\u001b[0m             \u001b[0mconverted\u001b[0m \u001b[0;34m=\u001b[0m \u001b[0mconvert_exception\u001b[0m\u001b[0;34m(\u001b[0m\u001b[0me\u001b[0m\u001b[0;34m.\u001b[0m\u001b[0mjava_exception\u001b[0m\u001b[0;34m)\u001b[0m\u001b[0;34m\u001b[0m\u001b[0;34m\u001b[0m\u001b[0m\n",
            "\u001b[0;32m/usr/local/lib/python3.10/dist-packages/py4j/protocol.py\u001b[0m in \u001b[0;36mget_return_value\u001b[0;34m(answer, gateway_client, target_id, name)\u001b[0m\n\u001b[1;32m    324\u001b[0m             \u001b[0mvalue\u001b[0m \u001b[0;34m=\u001b[0m \u001b[0mOUTPUT_CONVERTER\u001b[0m\u001b[0;34m[\u001b[0m\u001b[0mtype\u001b[0m\u001b[0;34m]\u001b[0m\u001b[0;34m(\u001b[0m\u001b[0manswer\u001b[0m\u001b[0;34m[\u001b[0m\u001b[0;36m2\u001b[0m\u001b[0;34m:\u001b[0m\u001b[0;34m]\u001b[0m\u001b[0;34m,\u001b[0m \u001b[0mgateway_client\u001b[0m\u001b[0;34m)\u001b[0m\u001b[0;34m\u001b[0m\u001b[0;34m\u001b[0m\u001b[0m\n\u001b[1;32m    325\u001b[0m             \u001b[0;32mif\u001b[0m \u001b[0manswer\u001b[0m\u001b[0;34m[\u001b[0m\u001b[0;36m1\u001b[0m\u001b[0;34m]\u001b[0m \u001b[0;34m==\u001b[0m \u001b[0mREFERENCE_TYPE\u001b[0m\u001b[0;34m:\u001b[0m\u001b[0;34m\u001b[0m\u001b[0;34m\u001b[0m\u001b[0m\n\u001b[0;32m--> 326\u001b[0;31m                 raise Py4JJavaError(\n\u001b[0m\u001b[1;32m    327\u001b[0m                     \u001b[0;34m\"An error occurred while calling {0}{1}{2}.\\n\"\u001b[0m\u001b[0;34m.\u001b[0m\u001b[0;34m\u001b[0m\u001b[0;34m\u001b[0m\u001b[0m\n\u001b[1;32m    328\u001b[0m                     format(target_id, \".\", name), value)\n",
            "\u001b[0;31mPy4JJavaError\u001b[0m: An error occurred while calling o739.approxQuantile.\n: java.lang.IllegalStateException: Cannot call methods on a stopped SparkContext.\nThis stopped SparkContext was created at:\n\norg.apache.spark.api.java.JavaSparkContext.<init>(JavaSparkContext.scala:58)\njava.base/jdk.internal.reflect.NativeConstructorAccessorImpl.newInstance0(Native Method)\njava.base/jdk.internal.reflect.NativeConstructorAccessorImpl.newInstance(NativeConstructorAccessorImpl.java:62)\njava.base/jdk.internal.reflect.DelegatingConstructorAccessorImpl.newInstance(DelegatingConstructorAccessorImpl.java:45)\njava.base/java.lang.reflect.Constructor.newInstance(Constructor.java:490)\npy4j.reflection.MethodInvoker.invoke(MethodInvoker.java:247)\npy4j.reflection.ReflectionEngine.invoke(ReflectionEngine.java:374)\npy4j.Gateway.invoke(Gateway.java:238)\npy4j.commands.ConstructorCommand.invokeConstructor(ConstructorCommand.java:80)\npy4j.commands.ConstructorCommand.execute(ConstructorCommand.java:69)\npy4j.ClientServerConnection.waitForCommands(ClientServerConnection.java:182)\npy4j.ClientServerConnection.run(ClientServerConnection.java:106)\njava.base/java.lang.Thread.run(Thread.java:829)\n\nThe currently active SparkContext was created at:\n\norg.apache.spark.api.java.JavaSparkContext.<init>(JavaSparkContext.scala:58)\njava.base/jdk.internal.reflect.NativeConstructorAccessorImpl.newInstance0(Native Method)\njava.base/jdk.internal.reflect.NativeConstructorAccessorImpl.newInstance(NativeConstructorAccessorImpl.java:62)\njava.base/jdk.internal.reflect.DelegatingConstructorAccessorImpl.newInstance(DelegatingConstructorAccessorImpl.java:45)\njava.base/java.lang.reflect.Constructor.newInstance(Constructor.java:490)\npy4j.reflection.MethodInvoker.invoke(MethodInvoker.java:247)\npy4j.reflection.ReflectionEngine.invoke(ReflectionEngine.java:374)\npy4j.Gateway.invoke(Gateway.java:238)\npy4j.commands.ConstructorCommand.invokeConstructor(ConstructorCommand.java:80)\npy4j.commands.ConstructorCommand.execute(ConstructorCommand.java:69)\npy4j.ClientServerConnection.waitForCommands(ClientServerConnection.java:182)\npy4j.ClientServerConnection.run(ClientServerConnection.java:106)\njava.base/java.lang.Thread.run(Thread.java:829)\n         \n\tat org.apache.spark.SparkContext.assertNotStopped(SparkContext.scala:120)\n\tat org.apache.spark.SparkContext.broadcastInternal(SparkContext.scala:1545)\n\tat org.apache.spark.SparkContext.broadcast(SparkContext.scala:1530)\n\tat org.apache.spark.sql.execution.datasources.csv.CSVFileFormat.buildReader(CSVFileFormat.scala:102)\n\tat org.apache.spark.sql.execution.datasources.FileFormat.buildReaderWithPartitionValues(FileFormat.scala:138)\n\tat org.apache.spark.sql.execution.datasources.FileFormat.buildReaderWithPartitionValues$(FileFormat.scala:129)\n\tat org.apache.spark.sql.execution.datasources.TextBasedFileFormat.buildReaderWithPartitionValues(FileFormat.scala:285)\n\tat org.apache.spark.sql.execution.FileSourceScanExec.inputRDD$lzycompute(DataSourceScanExec.scala:548)\n\tat org.apache.spark.sql.execution.FileSourceScanExec.inputRDD(DataSourceScanExec.scala:537)\n\tat org.apache.spark.sql.execution.FileSourceScanExec.doExecute(DataSourceScanExec.scala:576)\n\tat org.apache.spark.sql.execution.SparkPlan.$anonfun$execute$1(SparkPlan.scala:195)\n\tat org.apache.spark.sql.execution.SparkPlan.$anonfun$executeQuery$1(SparkPlan.scala:246)\n\tat org.apache.spark.rdd.RDDOperationScope$.withScope(RDDOperationScope.scala:151)\n\tat org.apache.spark.sql.execution.SparkPlan.executeQuery(SparkPlan.scala:243)\n\tat org.apache.spark.sql.execution.SparkPlan.execute(SparkPlan.scala:191)\n\tat org.apache.spark.sql.execution.InputAdapter.inputRDD(WholeStageCodegenExec.scala:527)\n\tat org.apache.spark.sql.execution.InputRDDCodegen.inputRDDs(WholeStageCodegenExec.scala:455)\n\tat org.apache.spark.sql.execution.InputRDDCodegen.inputRDDs$(WholeStageCodegenExec.scala:454)\n\tat org.apache.spark.sql.execution.InputAdapter.inputRDDs(WholeStageCodegenExec.scala:498)\n\tat org.apache.spark.sql.execution.ProjectExec.inputRDDs(basicPhysicalOperators.scala:51)\n\tat org.apache.spark.sql.execution.WholeStageCodegenExec.doExecute(WholeStageCodegenExec.scala:751)\n\tat org.apache.spark.sql.execution.SparkPlan.$anonfun$execute$1(SparkPlan.scala:195)\n\tat org.apache.spark.sql.execution.SparkPlan.$anonfun$executeQuery$1(SparkPlan.scala:246)\n\tat org.apache.spark.rdd.RDDOperationScope$.withScope(RDDOperationScope.scala:151)\n\tat org.apache.spark.sql.execution.SparkPlan.executeQuery(SparkPlan.scala:243)\n\tat org.apache.spark.sql.execution.SparkPlan.execute(SparkPlan.scala:191)\n\tat org.apache.spark.sql.execution.DeserializeToObjectExec.doExecute(objects.scala:92)\n\tat org.apache.spark.sql.execution.SparkPlan.$anonfun$execute$1(SparkPlan.scala:195)\n\tat org.apache.spark.sql.execution.SparkPlan.$anonfun$executeQuery$1(SparkPlan.scala:246)\n\tat org.apache.spark.rdd.RDDOperationScope$.withScope(RDDOperationScope.scala:151)\n\tat org.apache.spark.sql.execution.SparkPlan.executeQuery(SparkPlan.scala:243)\n\tat org.apache.spark.sql.execution.SparkPlan.execute(SparkPlan.scala:191)\n\tat org.apache.spark.sql.execution.QueryExecution.toRdd$lzycompute(QueryExecution.scala:190)\n\tat org.apache.spark.sql.execution.QueryExecution.toRdd(QueryExecution.scala:189)\n\tat org.apache.spark.sql.Dataset.rdd$lzycompute(Dataset.scala:3694)\n\tat org.apache.spark.sql.Dataset.rdd(Dataset.scala:3692)\n\tat org.apache.spark.sql.execution.stat.StatFunctions$.multipleApproxQuantiles(StatFunctions.scala:100)\n\tat org.apache.spark.sql.DataFrameStatFunctions.approxQuantile(DataFrameStatFunctions.scala:104)\n\tat org.apache.spark.sql.DataFrameStatFunctions.approxQuantile(DataFrameStatFunctions.scala:115)\n\tat java.base/jdk.internal.reflect.NativeMethodAccessorImpl.invoke0(Native Method)\n\tat java.base/jdk.internal.reflect.NativeMethodAccessorImpl.invoke(NativeMethodAccessorImpl.java:62)\n\tat java.base/jdk.internal.reflect.DelegatingMethodAccessorImpl.invoke(DelegatingMethodAccessorImpl.java:43)\n\tat java.base/java.lang.reflect.Method.invoke(Method.java:566)\n\tat py4j.reflection.MethodInvoker.invoke(MethodInvoker.java:244)\n\tat py4j.reflection.ReflectionEngine.invoke(ReflectionEngine.java:374)\n\tat py4j.Gateway.invoke(Gateway.java:282)\n\tat py4j.commands.AbstractCommand.invokeMethod(AbstractCommand.java:132)\n\tat py4j.commands.CallCommand.execute(CallCommand.java:79)\n\tat py4j.ClientServerConnection.waitForCommands(ClientServerConnection.java:182)\n\tat py4j.ClientServerConnection.run(ClientServerConnection.java:106)\n\tat java.base/java.lang.Thread.run(Thread.java:829)\n"
          ]
        }
      ],
      "source": [
        "from pyspark.sql import SparkSession\n",
        "from pyspark.sql.functions import col, expr\n",
        "spark = SparkSession.builder.appName(\"Outlier Removal\").getOrCreate()\n",
        "quantiles = df.approxQuantile(\"hypertension\", [0.25, 0.75], 0.05)\n",
        "q1 = quantiles[0]\n",
        "q3 = quantiles[1]\n",
        "iqr = q3 - q1\n",
        "lower_bound = q1 - 1.5 * iqr\n",
        "upper_bound = q3 + 1.5 * iqr\n",
        "filtered_data = df.filter((col(\"hypertension\") >= lower_bound) & (col(\"hypertension\") <= upper_bound))\n",
        "filtered_data = df.filter(expr(\"hypertension >= {0} AND hypertension <= {1}\".format(lower_bound, upper_bound)))\n",
        "filtered_data.show()\n",
        "spark.stop()"
      ]
    },
    {
      "cell_type": "code",
      "execution_count": null,
      "metadata": {
        "colab": {
          "base_uri": "https://localhost:8080/"
        },
        "id": "_8VYMQzJc_Zr",
        "outputId": "d127e6c6-8742-4e65-920f-1fb03502a558"
      },
      "outputs": [
        {
          "output_type": "stream",
          "name": "stdout",
          "text": [
            "+----+------------+-------------+-----+-----------+-------------------+--------+\n",
            "| age|hypertension|heart_disease|  bmi|HbA1c_level|blood_glucose_level|diabetes|\n",
            "+----+------------+-------------+-----+-----------+-------------------+--------+\n",
            "|54.0|           0|            0|27.32|        6.6|                 80|       0|\n",
            "|28.0|           0|            0|27.32|        5.7|                158|       0|\n",
            "|36.0|           0|            0|23.45|        5.0|                155|       0|\n",
            "|20.0|           0|            0|27.32|        6.6|                 85|       0|\n",
            "|44.0|           0|            0|19.31|        6.5|                200|       1|\n",
            "|79.0|           0|            0|23.86|        5.7|                 85|       0|\n",
            "|42.0|           0|            0|33.64|        4.8|                145|       0|\n",
            "|32.0|           0|            0|27.32|        5.0|                100|       0|\n",
            "|53.0|           0|            0|27.32|        6.1|                 85|       0|\n",
            "|54.0|           0|            0| 54.7|        6.0|                100|       0|\n",
            "|78.0|           0|            0|36.05|        5.0|                130|       0|\n",
            "|67.0|           0|            0|25.69|        5.8|                200|       0|\n",
            "|76.0|           0|            0|27.32|        5.0|                160|       0|\n",
            "|78.0|           0|            0|27.32|        6.6|                126|       0|\n",
            "|15.0|           0|            0|30.36|        6.1|                200|       0|\n",
            "|42.0|           0|            0|24.48|        5.7|                158|       0|\n",
            "|42.0|           0|            0|27.32|        5.7|                 80|       0|\n",
            "|37.0|           0|            0|25.72|        3.5|                159|       0|\n",
            "|40.0|           0|            0|36.38|        6.0|                 90|       0|\n",
            "| 5.0|           0|            0| 18.8|        6.2|                 85|       0|\n",
            "+----+------------+-------------+-----+-----------+-------------------+--------+\n",
            "only showing top 20 rows\n",
            "\n"
          ]
        }
      ],
      "source": [
        "from pyspark.sql import SparkSession\n",
        "from pyspark.sql.functions import col, expr\n",
        "\n",
        "# Create a Spark session\n",
        "spark = SparkSession.builder.appName(\"Outlier Removal\").getOrCreate()\n",
        "\n",
        "# Load the data\n",
        "df = spark.read.csv(\"Diabetes.csv\", header=True, inferSchema=True)\n",
        "\n",
        "# Calculate quartiles and IQR\n",
        "quantiles = df.approxQuantile(\"heart_disease\", [0.25, 0.75], 0.05)\n",
        "q1 = quantiles[0]\n",
        "q3 = quantiles[1]\n",
        "iqr = q3 - q1\n",
        "\n",
        "# Define upper and lower bounds for outlier detection\n",
        "lower_bound = q1 - 1.5 * iqr\n",
        "upper_bound = q3 + 1.5 * iqr\n",
        "\n",
        "# Remove outliers\n",
        "filtered_data = df.filter((col(\"heart_disease\") >= lower_bound) & (col(\"heart_disease\") <= upper_bound))\n",
        "\n",
        "# Alternatively, you can use an SQL expression for filtering\n",
        "filtered_data = df.filter(expr(\"heart_disease >= {0} AND heart_disease <= {1}\".format(lower_bound, upper_bound)))\n",
        "\n",
        "# Show the filtered data\n",
        "filtered_data.show()\n",
        "\n",
        "# Stop the Spark session\n",
        "spark.stop()"
      ]
    },
    {
      "cell_type": "code",
      "execution_count": null,
      "metadata": {
        "colab": {
          "base_uri": "https://localhost:8080/"
        },
        "id": "uYoJMCcddTY_",
        "outputId": "945e7203-ce88-4e33-d4e6-f399b8b19684"
      },
      "outputs": [
        {
          "output_type": "stream",
          "name": "stdout",
          "text": [
            "+----+------------+-------------+-----+-----------+-------------------+--------+\n",
            "| age|hypertension|heart_disease|  bmi|HbA1c_level|blood_glucose_level|diabetes|\n",
            "+----+------------+-------------+-----+-----------+-------------------+--------+\n",
            "|80.0|           0|            1|25.19|        6.6|                140|       0|\n",
            "|54.0|           0|            0|27.32|        6.6|                 80|       0|\n",
            "|28.0|           0|            0|27.32|        5.7|                158|       0|\n",
            "|36.0|           0|            0|23.45|        5.0|                155|       0|\n",
            "|76.0|           1|            1|20.14|        4.8|                155|       0|\n",
            "|20.0|           0|            0|27.32|        6.6|                 85|       0|\n",
            "|44.0|           0|            0|19.31|        6.5|                200|       1|\n",
            "|79.0|           0|            0|23.86|        5.7|                 85|       0|\n",
            "|42.0|           0|            0|33.64|        4.8|                145|       0|\n",
            "|32.0|           0|            0|27.32|        5.0|                100|       0|\n",
            "|53.0|           0|            0|27.32|        6.1|                 85|       0|\n",
            "|67.0|           0|            0|25.69|        5.8|                200|       0|\n",
            "|76.0|           0|            0|27.32|        5.0|                160|       0|\n",
            "|78.0|           0|            0|27.32|        6.6|                126|       0|\n",
            "|15.0|           0|            0|30.36|        6.1|                200|       0|\n",
            "|42.0|           0|            0|24.48|        5.7|                158|       0|\n",
            "|42.0|           0|            0|27.32|        5.7|                 80|       0|\n",
            "|37.0|           0|            0|25.72|        3.5|                159|       0|\n",
            "| 5.0|           0|            0| 18.8|        6.2|                 85|       0|\n",
            "|69.0|           0|            0|21.24|        4.8|                 85|       0|\n",
            "+----+------------+-------------+-----+-----------+-------------------+--------+\n",
            "only showing top 20 rows\n",
            "\n"
          ]
        }
      ],
      "source": [
        "from pyspark.sql import SparkSession\n",
        "from pyspark.sql.functions import col, expr\n",
        "\n",
        "# Create a Spark session\n",
        "spark = SparkSession.builder.appName(\"Outlier Removal\").getOrCreate()\n",
        "\n",
        "# Load the data\n",
        "df = spark.read.csv(\"Diabetes.csv\", header=True, inferSchema=True)\n",
        "\n",
        "# Calculate quartiles and IQR\n",
        "quantiles = df.approxQuantile(\"bmi\", [0.25, 0.75], 0.05)\n",
        "q1 = quantiles[0]\n",
        "q3 = quantiles[1]\n",
        "iqr = q3 - q1\n",
        "\n",
        "# Define upper and lower bounds for outlier detection\n",
        "lower_bound = q1 - 1.5 * iqr\n",
        "upper_bound = q3 + 1.5 * iqr\n",
        "\n",
        "# Remove outliers\n",
        "filtered_data = df.filter((col(\"bmi\") >= lower_bound) & (col(\"bmi\") <= upper_bound))\n",
        "\n",
        "# Alternatively, you can use an SQL expression for filtering\n",
        "filtered_data = df.filter(expr(\"bmi >= {0} AND bmi <= {1}\".format(lower_bound, upper_bound)))\n",
        "\n",
        "# Show the filtered data\n",
        "filtered_data.show()\n",
        "\n",
        "# Stop the Spark session\n",
        "spark.stop()"
      ]
    },
    {
      "cell_type": "code",
      "execution_count": null,
      "metadata": {
        "colab": {
          "base_uri": "https://localhost:8080/"
        },
        "id": "Cn4S8AWAd4ub",
        "outputId": "f978f00c-9757-4e33-86de-24145fe8ae42"
      },
      "outputs": [
        {
          "output_type": "stream",
          "name": "stdout",
          "text": [
            "+----+------------+-------------+-----+-----------+-------------------+--------+\n",
            "| age|hypertension|heart_disease|  bmi|HbA1c_level|blood_glucose_level|diabetes|\n",
            "+----+------------+-------------+-----+-----------+-------------------+--------+\n",
            "|80.0|           0|            1|25.19|        6.6|                140|       0|\n",
            "|54.0|           0|            0|27.32|        6.6|                 80|       0|\n",
            "|28.0|           0|            0|27.32|        5.7|                158|       0|\n",
            "|36.0|           0|            0|23.45|        5.0|                155|       0|\n",
            "|76.0|           1|            1|20.14|        4.8|                155|       0|\n",
            "|20.0|           0|            0|27.32|        6.6|                 85|       0|\n",
            "|44.0|           0|            0|19.31|        6.5|                200|       1|\n",
            "|79.0|           0|            0|23.86|        5.7|                 85|       0|\n",
            "|42.0|           0|            0|33.64|        4.8|                145|       0|\n",
            "|32.0|           0|            0|27.32|        5.0|                100|       0|\n",
            "|53.0|           0|            0|27.32|        6.1|                 85|       0|\n",
            "|54.0|           0|            0| 54.7|        6.0|                100|       0|\n",
            "|78.0|           0|            0|36.05|        5.0|                130|       0|\n",
            "|67.0|           0|            0|25.69|        5.8|                200|       0|\n",
            "|76.0|           0|            0|27.32|        5.0|                160|       0|\n",
            "|78.0|           0|            0|27.32|        6.6|                126|       0|\n",
            "|15.0|           0|            0|30.36|        6.1|                200|       0|\n",
            "|42.0|           0|            0|24.48|        5.7|                158|       0|\n",
            "|42.0|           0|            0|27.32|        5.7|                 80|       0|\n",
            "|37.0|           0|            0|25.72|        3.5|                159|       0|\n",
            "+----+------------+-------------+-----+-----------+-------------------+--------+\n",
            "only showing top 20 rows\n",
            "\n"
          ]
        }
      ],
      "source": [
        "from pyspark.sql import SparkSession\n",
        "from pyspark.sql.functions import col, expr\n",
        "\n",
        "# Create a Spark session\n",
        "spark = SparkSession.builder.appName(\"Outlier Removal\").getOrCreate()\n",
        "\n",
        "# Load the data\n",
        "df = spark.read.csv(\"Diabetes.csv\", header=True, inferSchema=True)\n",
        "\n",
        "# Calculate quartiles and IQR\n",
        "quantiles = df.approxQuantile(\"HbA1c_level\", [0.25, 0.75], 0.05)\n",
        "q1 = quantiles[0]\n",
        "q3 = quantiles[1]\n",
        "iqr = q3 - q1\n",
        "\n",
        "# Define upper and lower bounds for outlier detection\n",
        "lower_bound = q1 - 1.5 * iqr\n",
        "upper_bound = q3 + 1.5 * iqr\n",
        "\n",
        "# Remove outliers\n",
        "filtered_data = df.filter((col(\"HbA1c_level\") >= lower_bound) & (col(\"HbA1c_level\") <= upper_bound))\n",
        "\n",
        "# Alternatively, you can use an SQL expression for filtering\n",
        "filtered_data = df.filter(expr(\"HbA1c_level >= {0} AND HbA1c_level <= {1}\".format(lower_bound, upper_bound)))\n",
        "\n",
        "# Show the filtered data\n",
        "filtered_data.show()\n",
        "\n",
        "# Stop the Spark session\n",
        "spark.stop()"
      ]
    },
    {
      "cell_type": "code",
      "execution_count": null,
      "metadata": {
        "colab": {
          "base_uri": "https://localhost:8080/"
        },
        "id": "rQqCxZeReIjv",
        "outputId": "6177057c-dd06-4dc9-d6ae-0e56db5fa053"
      },
      "outputs": [
        {
          "output_type": "stream",
          "name": "stdout",
          "text": [
            "+----+------------+-------------+-----+-----------+-------------------+--------+\n",
            "| age|hypertension|heart_disease|  bmi|HbA1c_level|blood_glucose_level|diabetes|\n",
            "+----+------------+-------------+-----+-----------+-------------------+--------+\n",
            "|80.0|           0|            1|25.19|        6.6|                140|       0|\n",
            "|54.0|           0|            0|27.32|        6.6|                 80|       0|\n",
            "|28.0|           0|            0|27.32|        5.7|                158|       0|\n",
            "|36.0|           0|            0|23.45|        5.0|                155|       0|\n",
            "|76.0|           1|            1|20.14|        4.8|                155|       0|\n",
            "|20.0|           0|            0|27.32|        6.6|                 85|       0|\n",
            "|44.0|           0|            0|19.31|        6.5|                200|       1|\n",
            "|79.0|           0|            0|23.86|        5.7|                 85|       0|\n",
            "|42.0|           0|            0|33.64|        4.8|                145|       0|\n",
            "|32.0|           0|            0|27.32|        5.0|                100|       0|\n",
            "|53.0|           0|            0|27.32|        6.1|                 85|       0|\n",
            "|54.0|           0|            0| 54.7|        6.0|                100|       0|\n",
            "|78.0|           0|            0|36.05|        5.0|                130|       0|\n",
            "|67.0|           0|            0|25.69|        5.8|                200|       0|\n",
            "|76.0|           0|            0|27.32|        5.0|                160|       0|\n",
            "|78.0|           0|            0|27.32|        6.6|                126|       0|\n",
            "|15.0|           0|            0|30.36|        6.1|                200|       0|\n",
            "|42.0|           0|            0|24.48|        5.7|                158|       0|\n",
            "|42.0|           0|            0|27.32|        5.7|                 80|       0|\n",
            "|37.0|           0|            0|25.72|        3.5|                159|       0|\n",
            "+----+------------+-------------+-----+-----------+-------------------+--------+\n",
            "only showing top 20 rows\n",
            "\n"
          ]
        }
      ],
      "source": [
        "from pyspark.sql import SparkSession\n",
        "from pyspark.sql.functions import col, expr\n",
        "\n",
        "# Create a Spark session\n",
        "spark = SparkSession.builder.appName(\"Outlier Removal\").getOrCreate()\n",
        "\n",
        "# Load the data\n",
        "df = spark.read.csv(\"Diabetes.csv\", header=True, inferSchema=True)\n",
        "\n",
        "# Calculate quartiles and IQR\n",
        "quantiles = df.approxQuantile(\"blood_glucose_level\", [0.25, 0.75], 0.05)\n",
        "q1 = quantiles[0]\n",
        "q3 = quantiles[1]\n",
        "iqr = q3 - q1\n",
        "\n",
        "# Define upper and lower bounds for outlier detection\n",
        "lower_bound = q1 - 1.5 * iqr\n",
        "upper_bound = q3 + 1.5 * iqr\n",
        "\n",
        "# Remove outliers\n",
        "filtered_data = df.filter((col(\"blood_glucose_level\") >= lower_bound) & (col(\"blood_glucose_level\") <= upper_bound))\n",
        "\n",
        "# Alternatively, you can use an SQL expression for filtering\n",
        "filtered_data = df.filter(expr(\"blood_glucose_level >= {0} AND blood_glucose_level <= {1}\".format(lower_bound, upper_bound)))\n",
        "\n",
        "# Show the filtered data\n",
        "filtered_data.show()\n",
        "\n",
        "# Stop the Spark session\n",
        "spark.stop()"
      ]
    },
    {
      "cell_type": "code",
      "execution_count": null,
      "metadata": {
        "colab": {
          "base_uri": "https://localhost:8080/"
        },
        "id": "olETYohkddMr",
        "outputId": "0e85fe4b-6f8a-4db5-a02f-12ccfe1908d7"
      },
      "outputs": [
        {
          "output_type": "stream",
          "name": "stdout",
          "text": [
            "Accuracy: 95.88%\n"
          ]
        }
      ],
      "source": [
        "import pandas as pd\n",
        "from sklearn.model_selection import train_test_split\n",
        "from sklearn.linear_model import LogisticRegression\n",
        "from sklearn.metrics import accuracy_score\n",
        "\n",
        "# Load the preprocessed data from a CSV file using pandas\n",
        "data = pd.read_csv(\"Diabetes.csv\")\n",
        "\n",
        "# Split the data into features (X) and target variable (y)\n",
        "X = data.drop(\"diabetes\", axis=1)\n",
        "y = data[\"diabetes\"]\n",
        "\n",
        "# Split the data into training and test sets\n",
        "X_train, X_test, y_train, y_test = train_test_split(X, y, test_size=0.3, random_state=42)\n",
        "\n",
        "# Train the logistic regression model\n",
        "lr = LogisticRegression()\n",
        "lr.fit(X_train, y_train)\n",
        "\n",
        "# Make predictions on the test data\n",
        "predictions = lr.predict(X_test)\n",
        "\n",
        "# Evaluate the model's performance\n",
        "accuracy = accuracy_score(y_test, predictions)\n",
        "\n",
        "print(\"Accuracy: {:.2f}%\".format(accuracy * 100))\n"
      ]
    },
    {
      "cell_type": "code",
      "execution_count": null,
      "metadata": {
        "colab": {
          "base_uri": "https://localhost:8080/"
        },
        "id": "j_yJdiuTeKGj",
        "outputId": "49f4eb9b-2c1a-4a96-862d-9ed7e064f670"
      },
      "outputs": [
        {
          "output_type": "stream",
          "name": "stdout",
          "text": [
            "Epoch 1/10\n",
            "2188/2188 [==============================] - 6s 2ms/step - loss: 0.1252 - accuracy: 0.9583\n",
            "Epoch 2/10\n",
            "2188/2188 [==============================] - 4s 2ms/step - loss: 0.0956 - accuracy: 0.9671\n",
            "Epoch 3/10\n",
            "2188/2188 [==============================] - 4s 2ms/step - loss: 0.0894 - accuracy: 0.9693\n",
            "Epoch 4/10\n",
            "2188/2188 [==============================] - 4s 2ms/step - loss: 0.0870 - accuracy: 0.9700\n",
            "Epoch 5/10\n",
            "2188/2188 [==============================] - 5s 2ms/step - loss: 0.0854 - accuracy: 0.9710\n",
            "Epoch 6/10\n",
            "2188/2188 [==============================] - 4s 2ms/step - loss: 0.0851 - accuracy: 0.9710\n",
            "Epoch 7/10\n",
            "2188/2188 [==============================] - 4s 2ms/step - loss: 0.0845 - accuracy: 0.9713\n",
            "Epoch 8/10\n",
            "2188/2188 [==============================] - 5s 2ms/step - loss: 0.0842 - accuracy: 0.9711\n",
            "Epoch 9/10\n",
            "2188/2188 [==============================] - 4s 2ms/step - loss: 0.0839 - accuracy: 0.9714\n",
            "Epoch 10/10\n",
            "2188/2188 [==============================] - 4s 2ms/step - loss: 0.0840 - accuracy: 0.9715\n",
            "938/938 [==============================] - 2s 2ms/step - loss: 0.0804 - accuracy: 0.9726\n",
            "Accuracy: 97.26%\n"
          ]
        }
      ],
      "source": [
        "import numpy as np\n",
        "import tensorflow as tf\n",
        "\n",
        "# Load and preprocess the data\n",
        "data = np.loadtxt('Diabetes.csv', delimiter=',', skiprows=1)\n",
        "X = data[:, :-1]\n",
        "y = data[:, -1]\n",
        "\n",
        "# Normalize the features\n",
        "X = (X - np.mean(X, axis=0)) / np.std(X, axis=0)\n",
        "\n",
        "# Split the data into training and test sets\n",
        "split = int(0.7 * len(data))\n",
        "X_train, X_test = X[:split], X[split:]\n",
        "y_train, y_test = y[:split], y[split:]\n",
        "\n",
        "# Define the ANN model architecture\n",
        "model = tf.keras.models.Sequential([\n",
        "    tf.keras.layers.Dense(64, activation='relu', input_shape=(X_train.shape[1],)),\n",
        "    tf.keras.layers.Dense(32, activation='relu'),\n",
        "    tf.keras.layers.Dense(1, activation='sigmoid')\n",
        "])\n",
        "\n",
        "# Compile the model\n",
        "model.compile(optimizer='adam', loss='binary_crossentropy', metrics=['accuracy'])\n",
        "\n",
        "# Train the model\n",
        "model.fit(X_train, y_train, epochs=10, batch_size=32, verbose=1)\n",
        "\n",
        "# Evaluate the model on the test set\n",
        "loss, accuracy = model.evaluate(X_test, y_test)\n",
        "print(\"Accuracy: {:.2f}%\".format(accuracy * 100))\n"
      ]
    },
    {
      "cell_type": "code",
      "execution_count": null,
      "metadata": {
        "colab": {
          "base_uri": "https://localhost:8080/",
          "height": 424
        },
        "id": "uVw08VZpxTPU",
        "outputId": "b98065dc-bc22-4ffd-c5e9-6f6915b89af2"
      },
      "outputs": [
        {
          "output_type": "execute_result",
          "data": {
            "text/plain": [
              "        age  hypertension  heart_disease    bmi  HbA1c_level  \\\n",
              "0      80.0             0              1  25.19          6.6   \n",
              "1      54.0             0              0  27.32          6.6   \n",
              "2      28.0             0              0  27.32          5.7   \n",
              "3      36.0             0              0  23.45          5.0   \n",
              "4      76.0             1              1  20.14          4.8   \n",
              "...     ...           ...            ...    ...          ...   \n",
              "99995  80.0             0              0  27.32          6.2   \n",
              "99996   2.0             0              0  17.37          6.5   \n",
              "99997  66.0             0              0  27.83          5.7   \n",
              "99998  24.0             0              0  35.42          4.0   \n",
              "99999  57.0             0              0  22.43          6.6   \n",
              "\n",
              "       blood_glucose_level  diabetes  \n",
              "0                      140         0  \n",
              "1                       80         0  \n",
              "2                      158         0  \n",
              "3                      155         0  \n",
              "4                      155         0  \n",
              "...                    ...       ...  \n",
              "99995                   90         0  \n",
              "99996                  100         0  \n",
              "99997                  155         0  \n",
              "99998                  100         0  \n",
              "99999                   90         0  \n",
              "\n",
              "[100000 rows x 7 columns]"
            ],
            "text/html": [
              "\n",
              "\n",
              "  <div id=\"df-45b3297a-9f00-44e8-9999-a99725fc3228\">\n",
              "    <div class=\"colab-df-container\">\n",
              "      <div>\n",
              "<style scoped>\n",
              "    .dataframe tbody tr th:only-of-type {\n",
              "        vertical-align: middle;\n",
              "    }\n",
              "\n",
              "    .dataframe tbody tr th {\n",
              "        vertical-align: top;\n",
              "    }\n",
              "\n",
              "    .dataframe thead th {\n",
              "        text-align: right;\n",
              "    }\n",
              "</style>\n",
              "<table border=\"1\" class=\"dataframe\">\n",
              "  <thead>\n",
              "    <tr style=\"text-align: right;\">\n",
              "      <th></th>\n",
              "      <th>age</th>\n",
              "      <th>hypertension</th>\n",
              "      <th>heart_disease</th>\n",
              "      <th>bmi</th>\n",
              "      <th>HbA1c_level</th>\n",
              "      <th>blood_glucose_level</th>\n",
              "      <th>diabetes</th>\n",
              "    </tr>\n",
              "  </thead>\n",
              "  <tbody>\n",
              "    <tr>\n",
              "      <th>0</th>\n",
              "      <td>80.0</td>\n",
              "      <td>0</td>\n",
              "      <td>1</td>\n",
              "      <td>25.19</td>\n",
              "      <td>6.6</td>\n",
              "      <td>140</td>\n",
              "      <td>0</td>\n",
              "    </tr>\n",
              "    <tr>\n",
              "      <th>1</th>\n",
              "      <td>54.0</td>\n",
              "      <td>0</td>\n",
              "      <td>0</td>\n",
              "      <td>27.32</td>\n",
              "      <td>6.6</td>\n",
              "      <td>80</td>\n",
              "      <td>0</td>\n",
              "    </tr>\n",
              "    <tr>\n",
              "      <th>2</th>\n",
              "      <td>28.0</td>\n",
              "      <td>0</td>\n",
              "      <td>0</td>\n",
              "      <td>27.32</td>\n",
              "      <td>5.7</td>\n",
              "      <td>158</td>\n",
              "      <td>0</td>\n",
              "    </tr>\n",
              "    <tr>\n",
              "      <th>3</th>\n",
              "      <td>36.0</td>\n",
              "      <td>0</td>\n",
              "      <td>0</td>\n",
              "      <td>23.45</td>\n",
              "      <td>5.0</td>\n",
              "      <td>155</td>\n",
              "      <td>0</td>\n",
              "    </tr>\n",
              "    <tr>\n",
              "      <th>4</th>\n",
              "      <td>76.0</td>\n",
              "      <td>1</td>\n",
              "      <td>1</td>\n",
              "      <td>20.14</td>\n",
              "      <td>4.8</td>\n",
              "      <td>155</td>\n",
              "      <td>0</td>\n",
              "    </tr>\n",
              "    <tr>\n",
              "      <th>...</th>\n",
              "      <td>...</td>\n",
              "      <td>...</td>\n",
              "      <td>...</td>\n",
              "      <td>...</td>\n",
              "      <td>...</td>\n",
              "      <td>...</td>\n",
              "      <td>...</td>\n",
              "    </tr>\n",
              "    <tr>\n",
              "      <th>99995</th>\n",
              "      <td>80.0</td>\n",
              "      <td>0</td>\n",
              "      <td>0</td>\n",
              "      <td>27.32</td>\n",
              "      <td>6.2</td>\n",
              "      <td>90</td>\n",
              "      <td>0</td>\n",
              "    </tr>\n",
              "    <tr>\n",
              "      <th>99996</th>\n",
              "      <td>2.0</td>\n",
              "      <td>0</td>\n",
              "      <td>0</td>\n",
              "      <td>17.37</td>\n",
              "      <td>6.5</td>\n",
              "      <td>100</td>\n",
              "      <td>0</td>\n",
              "    </tr>\n",
              "    <tr>\n",
              "      <th>99997</th>\n",
              "      <td>66.0</td>\n",
              "      <td>0</td>\n",
              "      <td>0</td>\n",
              "      <td>27.83</td>\n",
              "      <td>5.7</td>\n",
              "      <td>155</td>\n",
              "      <td>0</td>\n",
              "    </tr>\n",
              "    <tr>\n",
              "      <th>99998</th>\n",
              "      <td>24.0</td>\n",
              "      <td>0</td>\n",
              "      <td>0</td>\n",
              "      <td>35.42</td>\n",
              "      <td>4.0</td>\n",
              "      <td>100</td>\n",
              "      <td>0</td>\n",
              "    </tr>\n",
              "    <tr>\n",
              "      <th>99999</th>\n",
              "      <td>57.0</td>\n",
              "      <td>0</td>\n",
              "      <td>0</td>\n",
              "      <td>22.43</td>\n",
              "      <td>6.6</td>\n",
              "      <td>90</td>\n",
              "      <td>0</td>\n",
              "    </tr>\n",
              "  </tbody>\n",
              "</table>\n",
              "<p>100000 rows × 7 columns</p>\n",
              "</div>\n",
              "      <button class=\"colab-df-convert\" onclick=\"convertToInteractive('df-45b3297a-9f00-44e8-9999-a99725fc3228')\"\n",
              "              title=\"Convert this dataframe to an interactive table.\"\n",
              "              style=\"display:none;\">\n",
              "\n",
              "  <svg xmlns=\"http://www.w3.org/2000/svg\" height=\"24px\"viewBox=\"0 0 24 24\"\n",
              "       width=\"24px\">\n",
              "    <path d=\"M0 0h24v24H0V0z\" fill=\"none\"/>\n",
              "    <path d=\"M18.56 5.44l.94 2.06.94-2.06 2.06-.94-2.06-.94-.94-2.06-.94 2.06-2.06.94zm-11 1L8.5 8.5l.94-2.06 2.06-.94-2.06-.94L8.5 2.5l-.94 2.06-2.06.94zm10 10l.94 2.06.94-2.06 2.06-.94-2.06-.94-.94-2.06-.94 2.06-2.06.94z\"/><path d=\"M17.41 7.96l-1.37-1.37c-.4-.4-.92-.59-1.43-.59-.52 0-1.04.2-1.43.59L10.3 9.45l-7.72 7.72c-.78.78-.78 2.05 0 2.83L4 21.41c.39.39.9.59 1.41.59.51 0 1.02-.2 1.41-.59l7.78-7.78 2.81-2.81c.8-.78.8-2.07 0-2.86zM5.41 20L4 18.59l7.72-7.72 1.47 1.35L5.41 20z\"/>\n",
              "  </svg>\n",
              "      </button>\n",
              "\n",
              "\n",
              "\n",
              "    <div id=\"df-a491766e-c1e0-49d8-a008-2a320a850572\">\n",
              "      <button class=\"colab-df-quickchart\" onclick=\"quickchart('df-a491766e-c1e0-49d8-a008-2a320a850572')\"\n",
              "              title=\"Suggest charts.\"\n",
              "              style=\"display:none;\">\n",
              "\n",
              "<svg xmlns=\"http://www.w3.org/2000/svg\" height=\"24px\"viewBox=\"0 0 24 24\"\n",
              "     width=\"24px\">\n",
              "    <g>\n",
              "        <path d=\"M19 3H5c-1.1 0-2 .9-2 2v14c0 1.1.9 2 2 2h14c1.1 0 2-.9 2-2V5c0-1.1-.9-2-2-2zM9 17H7v-7h2v7zm4 0h-2V7h2v10zm4 0h-2v-4h2v4z\"/>\n",
              "    </g>\n",
              "</svg>\n",
              "      </button>\n",
              "    </div>\n",
              "\n",
              "<style>\n",
              "  .colab-df-quickchart {\n",
              "    background-color: #E8F0FE;\n",
              "    border: none;\n",
              "    border-radius: 50%;\n",
              "    cursor: pointer;\n",
              "    display: none;\n",
              "    fill: #1967D2;\n",
              "    height: 32px;\n",
              "    padding: 0 0 0 0;\n",
              "    width: 32px;\n",
              "  }\n",
              "\n",
              "  .colab-df-quickchart:hover {\n",
              "    background-color: #E2EBFA;\n",
              "    box-shadow: 0px 1px 2px rgba(60, 64, 67, 0.3), 0px 1px 3px 1px rgba(60, 64, 67, 0.15);\n",
              "    fill: #174EA6;\n",
              "  }\n",
              "\n",
              "  [theme=dark] .colab-df-quickchart {\n",
              "    background-color: #3B4455;\n",
              "    fill: #D2E3FC;\n",
              "  }\n",
              "\n",
              "  [theme=dark] .colab-df-quickchart:hover {\n",
              "    background-color: #434B5C;\n",
              "    box-shadow: 0px 1px 3px 1px rgba(0, 0, 0, 0.15);\n",
              "    filter: drop-shadow(0px 1px 2px rgba(0, 0, 0, 0.3));\n",
              "    fill: #FFFFFF;\n",
              "  }\n",
              "</style>\n",
              "\n",
              "    <script>\n",
              "      async function quickchart(key) {\n",
              "        const containerElement = document.querySelector('#' + key);\n",
              "        const charts = await google.colab.kernel.invokeFunction(\n",
              "            'suggestCharts', [key], {});\n",
              "      }\n",
              "    </script>\n",
              "\n",
              "      <script>\n",
              "\n",
              "function displayQuickchartButton(domScope) {\n",
              "  let quickchartButtonEl =\n",
              "    domScope.querySelector('#df-a491766e-c1e0-49d8-a008-2a320a850572 button.colab-df-quickchart');\n",
              "  quickchartButtonEl.style.display =\n",
              "    google.colab.kernel.accessAllowed ? 'block' : 'none';\n",
              "}\n",
              "\n",
              "        displayQuickchartButton(document);\n",
              "      </script>\n",
              "      <style>\n",
              "    .colab-df-container {\n",
              "      display:flex;\n",
              "      flex-wrap:wrap;\n",
              "      gap: 12px;\n",
              "    }\n",
              "\n",
              "    .colab-df-convert {\n",
              "      background-color: #E8F0FE;\n",
              "      border: none;\n",
              "      border-radius: 50%;\n",
              "      cursor: pointer;\n",
              "      display: none;\n",
              "      fill: #1967D2;\n",
              "      height: 32px;\n",
              "      padding: 0 0 0 0;\n",
              "      width: 32px;\n",
              "    }\n",
              "\n",
              "    .colab-df-convert:hover {\n",
              "      background-color: #E2EBFA;\n",
              "      box-shadow: 0px 1px 2px rgba(60, 64, 67, 0.3), 0px 1px 3px 1px rgba(60, 64, 67, 0.15);\n",
              "      fill: #174EA6;\n",
              "    }\n",
              "\n",
              "    [theme=dark] .colab-df-convert {\n",
              "      background-color: #3B4455;\n",
              "      fill: #D2E3FC;\n",
              "    }\n",
              "\n",
              "    [theme=dark] .colab-df-convert:hover {\n",
              "      background-color: #434B5C;\n",
              "      box-shadow: 0px 1px 3px 1px rgba(0, 0, 0, 0.15);\n",
              "      filter: drop-shadow(0px 1px 2px rgba(0, 0, 0, 0.3));\n",
              "      fill: #FFFFFF;\n",
              "    }\n",
              "  </style>\n",
              "\n",
              "      <script>\n",
              "        const buttonEl =\n",
              "          document.querySelector('#df-45b3297a-9f00-44e8-9999-a99725fc3228 button.colab-df-convert');\n",
              "        buttonEl.style.display =\n",
              "          google.colab.kernel.accessAllowed ? 'block' : 'none';\n",
              "\n",
              "        async function convertToInteractive(key) {\n",
              "          const element = document.querySelector('#df-45b3297a-9f00-44e8-9999-a99725fc3228');\n",
              "          const dataTable =\n",
              "            await google.colab.kernel.invokeFunction('convertToInteractive',\n",
              "                                                     [key], {});\n",
              "          if (!dataTable) return;\n",
              "\n",
              "          const docLinkHtml = 'Like what you see? Visit the ' +\n",
              "            '<a target=\"_blank\" href=https://colab.research.google.com/notebooks/data_table.ipynb>data table notebook</a>'\n",
              "            + ' to learn more about interactive tables.';\n",
              "          element.innerHTML = '';\n",
              "          dataTable['output_type'] = 'display_data';\n",
              "          await google.colab.output.renderOutput(dataTable, element);\n",
              "          const docLink = document.createElement('div');\n",
              "          docLink.innerHTML = docLinkHtml;\n",
              "          element.appendChild(docLink);\n",
              "        }\n",
              "      </script>\n",
              "    </div>\n",
              "  </div>\n"
            ]
          },
          "metadata": {},
          "execution_count": 61
        }
      ],
      "source": [
        "df1=pd.read_csv(r\"Diabetes.csv\")\n",
        "df1"
      ]
    },
    {
      "cell_type": "code",
      "execution_count": null,
      "metadata": {
        "colab": {
          "base_uri": "https://localhost:8080/"
        },
        "id": "WjjjEbgaypPp",
        "outputId": "13807c7b-d08f-4419-b816-0120f0c5d8e3"
      },
      "outputs": [
        {
          "output_type": "stream",
          "name": "stdout",
          "text": [
            "Elapsed time: 0.19 seconds\n",
            "Accuracy: 96.13%\n"
          ]
        }
      ],
      "source": [
        "import time\n",
        "from sklearn.linear_model import LogisticRegression\n",
        "from sklearn.model_selection import train_test_split\n",
        "from sklearn.metrics import accuracy_score\n",
        "from sklearn.preprocessing import StandardScaler\n",
        "\n",
        "\n",
        "\n",
        "# Split the dataset into input features (X) and target variable (y)\n",
        "X = df1.drop('diabetes', axis=1)  # Assuming 'diabetes' is the target column\n",
        "y = df1['diabetes']\n",
        "\n",
        "# Perform feature scaling (optional but often beneficial for logistic regression)\n",
        "scaler = StandardScaler()\n",
        "X = scaler.fit_transform(X)\n",
        "\n",
        "# Split the dataset into training and testing sets\n",
        "X_train, X_test, y_train, y_test = train_test_split(X, y, test_size=0.3, random_state=12345)\n",
        "\n",
        "# Create a LogisticRegression instance\n",
        "lr = LogisticRegression()\n",
        "\n",
        "# Start measuring the elapsed time\n",
        "start_time = time.time()\n",
        "\n",
        "# Fit the Logistic Regression model\n",
        "lr.fit(X_train, y_train)\n",
        "\n",
        "# Stop measuring the elapsed time\n",
        "elapsed_time = time.time() - start_time\n",
        "\n",
        "# Make predictions on the test set\n",
        "y_pred = lr.predict(X_test)\n",
        "\n",
        "# Calculate the accuracy of the model\n",
        "accuracy = accuracy_score(y_test, y_pred)\n",
        "\n",
        "# Print the elapsed time and accuracy\n",
        "print(\"Elapsed time: {:.2f} seconds\".format(elapsed_time))\n",
        "print(\"Accuracy: {:.2f}%\".format(accuracy * 100))\n"
      ]
    },
    {
      "cell_type": "code",
      "execution_count": null,
      "metadata": {
        "colab": {
          "base_uri": "https://localhost:8080/"
        },
        "id": "715g8w6MyurH",
        "outputId": "3592ad8d-58d7-4a1d-fec0-ec68ea8bf068"
      },
      "outputs": [
        {
          "output_type": "stream",
          "name": "stdout",
          "text": [
            "Epoch 1/10\n",
            "2188/2188 [==============================] - 5s 2ms/step - loss: 0.1566 - accuracy: 0.9461\n",
            "Epoch 2/10\n",
            "2188/2188 [==============================] - 4s 2ms/step - loss: 0.1120 - accuracy: 0.9615\n",
            "Epoch 3/10\n",
            "2188/2188 [==============================] - 5s 2ms/step - loss: 0.1063 - accuracy: 0.9642\n",
            "Epoch 4/10\n",
            "2188/2188 [==============================] - 4s 2ms/step - loss: 0.1008 - accuracy: 0.9663\n",
            "Epoch 5/10\n",
            "2188/2188 [==============================] - 4s 2ms/step - loss: 0.0954 - accuracy: 0.9681\n",
            "Epoch 6/10\n",
            "2188/2188 [==============================] - 4s 2ms/step - loss: 0.0909 - accuracy: 0.9693\n",
            "Epoch 7/10\n",
            "2188/2188 [==============================] - 4s 2ms/step - loss: 0.0880 - accuracy: 0.9704\n",
            "Epoch 8/10\n",
            "2188/2188 [==============================] - 4s 2ms/step - loss: 0.0861 - accuracy: 0.9709\n",
            "Epoch 9/10\n",
            "2188/2188 [==============================] - 4s 2ms/step - loss: 0.0852 - accuracy: 0.9709\n",
            "Epoch 10/10\n",
            "2188/2188 [==============================] - 5s 2ms/step - loss: 0.0842 - accuracy: 0.9714\n",
            "938/938 [==============================] - 1s 1ms/step - loss: 0.0846 - accuracy: 0.9716\n",
            "Loss: 0.0846\n",
            "Accuracy: 97.16%\n",
            "Elapsed time: 82.89 seconds\n"
          ]
        }
      ],
      "source": [
        "import time\n",
        "import numpy as np\n",
        "import tensorflow as tf\n",
        "from sklearn.model_selection import train_test_split\n",
        "from sklearn.preprocessing import StandardScaler\n",
        "\n",
        "\n",
        "n_features = X.shape[1]  # Replace X with your input feature matrix\n",
        "\n",
        "# Split the dataset into training and testing sets\n",
        "X_train, X_test, y_train, y_test = train_test_split(X, y, test_size=0.3, random_state=12345)\n",
        "\n",
        "# Scale the input features\n",
        "scaler = StandardScaler()\n",
        "X_train_scaled = scaler.fit_transform(X_train)\n",
        "X_test_scaled = scaler.transform(X_test)\n",
        "\n",
        "# Build the ANN model\n",
        "model = tf.keras.models.Sequential([\n",
        "    tf.keras.layers.Dense(16, activation='relu', input_shape=(n_features,)),\n",
        "    tf.keras.layers.Dense(8, activation='relu'),\n",
        "    tf.keras.layers.Dense(1, activation='sigmoid')\n",
        "])\n",
        "\n",
        "# Compile the model\n",
        "model.compile(optimizer='adam', loss='binary_crossentropy', metrics=['accuracy'])\n",
        "\n",
        "# Start measuring the elapsed time\n",
        "start_time = time.time()\n",
        "\n",
        "# Train the model\n",
        "model.fit(X_train_scaled, y_train, epochs=10, batch_size=32)\n",
        "\n",
        "# Stop measuring the elapsed time\n",
        "elapsed_time = time.time() - start_time\n",
        "\n",
        "# Evaluate the model on the test set\n",
        "loss, accuracy = model.evaluate(X_test_scaled, y_test)\n",
        "\n",
        "# Print the evaluation results and elapsed time\n",
        "print(\"Loss: {:.4f}\".format(loss))\n",
        "print(\"Accuracy: {:.2%}\".format(accuracy))\n",
        "print(\"Elapsed time: {:.2f} seconds\".format(elapsed_time))\n"
      ]
    }
  ],
  "metadata": {
    "colab": {
      "provenance": []
    },
    "kernelspec": {
      "display_name": "Python 3",
      "name": "python3"
    },
    "language_info": {
      "name": "python"
    }
  },
  "nbformat": 4,
  "nbformat_minor": 0
}